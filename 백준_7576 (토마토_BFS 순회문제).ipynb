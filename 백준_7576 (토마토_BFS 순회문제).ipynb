{
 "cells": [
  {
   "cell_type": "code",
   "execution_count": null,
   "metadata": {},
   "outputs": [],
   "source": []
  },
  {
   "cell_type": "code",
   "execution_count": null,
   "metadata": {},
   "outputs": [],
   "source": []
  },
  {
   "cell_type": "code",
   "execution_count": 2,
   "metadata": {},
   "outputs": [
    {
     "name": "stdout",
     "output_type": "stream",
     "text": [
      "24\n",
      "1\n"
     ]
    }
   ],
   "source": [
    "from collections import deque\n",
    "\n",
    "def bfs(y, x, graph, n, m, cnt):\n",
    "    cnt += 1\n",
    "    graph[y][x] = 1\n",
    "    que = deque([[y, x]])\n",
    "    \n",
    "    #     상 하 좌 우\n",
    "    dy = [-1, 1, 0, 0]\n",
    "    dx = [0, 0, -1, 1]\n",
    "    \n",
    "    while que:\n",
    "        tmp = que.popleft()\n",
    "        for i in range(4):\n",
    "            ny = tmp[0] + dy[i]\n",
    "            nx = tmp[1] + dx[i]\n",
    "            \n",
    "            if ny < 0 or n <= ny or nx < 0 or m <= nx: continue\n",
    "            if graph[ny][nx] == -1: continue\n",
    "                \n",
    "            if graph[ny][nx] == 0:                \n",
    "                graph[ny][nx] = 1\n",
    "                que.append([ny, nx])\n",
    "        cnt += 1\n",
    "                \n",
    "    return cnt\n",
    "\n",
    "#m, n = map(int, input().split())  # n = 세로, m = 가로\n",
    "#graph = [list(map(int, input().split())) for _ in range(n)]\n",
    "\n",
    "m, n = 6, 4\n",
    "# test case 1\n",
    "graph = [[0, 0, 0, 0, 0, 0],         [0, 0, 0, 0, 0, 0],         [0, 0, 0, 0, 0, 0],         [0, 0, 0, 0, 0, 1]]\n",
    "# test case 3\n",
    "#graph = [[1, -1, 0, 0, 0, 0],         [0, -1, 0, 0, 0, 0],         [0, 0, 0, 0, -1, 0],         [0, 0, 0, 0, -1, 1]]\n",
    "\n",
    "answer = 0\n",
    "cnt = 0\n",
    "\n",
    "for y in range(n):\n",
    "    for x in range(m):\n",
    "        if graph[y][x] == -1: continue\n",
    "        if graph[y][x] == 0:            \n",
    "            answer += bfs(y, x, graph, n, m, cnt)\n",
    "            cnt = 0\n",
    "\n",
    "for small in graph:\n",
    "    for i in range(m):\n",
    "        if small[i] == 0:   # 하나라도 있으면\n",
    "            answer = -1   \n",
    "\n",
    "print(answer)"
   ]
  },
  {
   "cell_type": "code",
   "execution_count": 14,
   "metadata": {},
   "outputs": [
    {
     "name": "stdout",
     "output_type": "stream",
     "text": [
      "6\n"
     ]
    }
   ],
   "source": [
    "''' 블로그 어떻게 했나 참고하고 다시 푼 '''\n",
    "from collections import deque\n",
    "\n",
    "def bfs(y, x, graph, n, m, que):\n",
    "    #     상 하 좌 우\n",
    "    dy, dx = [-1, 1, 0, 0], [0, 0, -1, 1]\n",
    "        \n",
    "    while que:\n",
    "        ay, ax = que.popleft()\n",
    "        \n",
    "        for i in range(4):\n",
    "            ny, nx = ay + dy[i], ax + dx[i]\n",
    "            \n",
    "            if 0 <= ny < n and 0 <= nx < m and graph[ny][nx] == 0:\n",
    "                graph[ny][nx] = graph[ay][ax] + 1   # (핵중요) 최단거리 값 키워나가\n",
    "                que.append([ny, nx])\n",
    "\n",
    "m, n = map(int, input().split())  # n = 세로, m = 가로\n",
    "graph = [list(map(int, input().split())) for _ in range(n)]\n",
    "\n",
    "answer = 0\n",
    "cnt = 0\n",
    "que = deque()\n",
    "\n",
    "# 토마토의 위치 전부 push\n",
    "for y in range(n):\n",
    "    for x in range(m):\n",
    "        if graph[y][x] == 1:          \n",
    "            que.append([y, x])\n",
    "            \n",
    "bfs(y, x, graph, n, m, que)\n",
    "\n",
    "flag = False\n",
    "for small_g in graph:\n",
    "    for i in range(m):\n",
    "        if small_g[i] == 0:   # 하나라도 있으면\n",
    "            flag = True\n",
    "            break\n",
    "    answer = max(answer, max(small_g))\n",
    "\n",
    "if flag: print(-1)\n",
    "else: print(answer-1)   # 근데 왜 -1이냐면,\n",
    "# => 처음 시작할 때 익은토마토는 1이고, 첫 익은 애의 +1 = 2로 시작했으니까 -1해줘야함"
   ]
  },
  {
   "cell_type": "code",
   "execution_count": 11,
   "metadata": {},
   "outputs": [
    {
     "data": {
      "text/plain": [
       "[[1, -1, 7, 6, 5, 4],\n",
       " [2, -1, 6, 5, 4, 3],\n",
       " [3, 4, 5, 6, -1, 2],\n",
       " [4, 5, 6, 7, -1, 1]]"
      ]
     },
     "execution_count": 11,
     "metadata": {},
     "output_type": "execute_result"
    }
   ],
   "source": [
    "graph"
   ]
  },
  {
   "cell_type": "code",
   "execution_count": null,
   "metadata": {},
   "outputs": [],
   "source": [
    "graph = [[0, 0, 0, 0, 0, 0],\n",
    " [0, 0, 0, 0, 0, 0],\n",
    " [0, 0, 0, 0, 0, 0],\n",
    " [0, 0, 0, 0, 0, 1]]\n",
    "\n",
    "graph = [[1, 1, 1, 1, 1, 1],\n",
    " [1, 1, 1, 1, 1, 1],\n",
    " [1, 1, 1, 1, 0, 1],\n",
    " [1, 1, 1, 1, 1, 1]]\n"
   ]
  },
  {
   "cell_type": "code",
   "execution_count": null,
   "metadata": {},
   "outputs": [],
   "source": []
  },
  {
   "cell_type": "code",
   "execution_count": 28,
   "metadata": {},
   "outputs": [
    {
     "name": "stdout",
     "output_type": "stream",
     "text": [
      "6\n"
     ]
    }
   ],
   "source": [
    "from collections import deque\n",
    "\n",
    "#m, n = map(int, input().split())\n",
    "#matrix = [list(map(int, input().split())) for _ in range(n)]\n",
    "m, n = 6, 4\n",
    "matrix = [[1, -1, 0, 0, 0, 0],         [0, -1, 0, 0, 0, 0],         [0, 0, 0, 0, -1, 0],         [0, 0, 0, 0, -1, 1]]\n",
    "\n",
    "queue = deque([])\n",
    "dx, dy = [-1, 1, 0, 0], [0, 0, -1, 1]\n",
    "res = 0\n",
    "\n",
    "for i in range(n):\n",
    "    for j in range(m):\n",
    "        if matrix[i][j] == 1:\n",
    "            queue.append([i, j])\n",
    "\n",
    "def bfs():\n",
    "    while queue:\n",
    "        x, y = queue.popleft()\n",
    "        for i in range(4):\n",
    "            nx, ny = dx[i] + x, dy[i] + y\n",
    "            if 0 <= nx < n and 0 <= ny < m and matrix[nx][ny] == 0:\n",
    "                matrix[nx][ny] = matrix[x][y] + 1\n",
    "                queue.append([nx, ny])\n",
    "\n",
    "bfs()\n",
    "for i in matrix:\n",
    "    for j in i:\n",
    "        if j == 0:\n",
    "            print(-1)\n",
    "            exit(0)\n",
    "    res = max(res, max(i))\n",
    "print(res - 1)\n"
   ]
  },
  {
   "cell_type": "code",
   "execution_count": 30,
   "metadata": {},
   "outputs": [
    {
     "data": {
      "text/plain": [
       "[[1, -1, 7, 6, 5, 4],\n",
       " [2, -1, 6, 5, 4, 3],\n",
       " [3, 4, 5, 6, -1, 2],\n",
       " [4, 5, 6, 7, -1, 1]]"
      ]
     },
     "execution_count": 30,
     "metadata": {},
     "output_type": "execute_result"
    }
   ],
   "source": [
    "matrix\n"
   ]
  },
  {
   "cell_type": "code",
   "execution_count": null,
   "metadata": {},
   "outputs": [],
   "source": []
  },
  {
   "cell_type": "code",
   "execution_count": null,
   "metadata": {},
   "outputs": [],
   "source": []
  }
 ],
 "metadata": {
  "kernelspec": {
   "display_name": "Python 3",
   "language": "python",
   "name": "python3"
  },
  "language_info": {
   "codemirror_mode": {
    "name": "ipython",
    "version": 3
   },
   "file_extension": ".py",
   "mimetype": "text/x-python",
   "name": "python",
   "nbconvert_exporter": "python",
   "pygments_lexer": "ipython3",
   "version": "3.8.5"
  }
 },
 "nbformat": 4,
 "nbformat_minor": 4
}
