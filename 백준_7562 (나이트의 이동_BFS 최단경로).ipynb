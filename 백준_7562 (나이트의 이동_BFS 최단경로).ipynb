{
 "cells": [
  {
   "cell_type": "code",
   "execution_count": null,
   "metadata": {},
   "outputs": [],
   "source": []
  },
  {
   "cell_type": "markdown",
   "metadata": {},
   "source": [
    "## 메모한 것 (핵중요)\n",
    "\n",
    "* 전에 동빈나에서 나왔던 유형인 것 같은데\n",
    "* 다른 점은 아마 한 변의 길이를 받는게 없었던듯? 어쨌든 똑같다\n",
    "\n",
    "* 일단 BFS 최단경로 방식으로 풀어나가면 될거같은데\n",
    "  - 그 숨바꼭질 문제(백준 1697)\n",
    "\n",
    "1. 변의 길이만큼 n x n graph 만든다 (이때 다 0으로 초기화 => 이동할 때마다 가중치 부여)\n",
    "2. 갈 수 있는 모든 경우의 수에 대해 que에 넣고 bfs 돌린다\n",
    "3. bfs 진행 시 ny, nx에는 prev_y와 prev_x에 +1한 값을 넣어주다가\n",
    "4. (핵중요) 이동할 위치의 인덱스 == 목표 인덱스 이면 print(이동 횟수) 후 break"
   ]
  },
  {
   "cell_type": "code",
   "execution_count": 19,
   "metadata": {
    "scrolled": true
   },
   "outputs": [
    {
     "name": "stdout",
     "output_type": "stream",
     "text": [
      "3\n",
      "8\n",
      "0 0\n",
      "7 0\n",
      "5\n",
      "100\n",
      "0 0\n",
      "30 50\n",
      "28\n",
      "10\n",
      "1 1\n",
      "1 1\n",
      "0\n"
     ]
    }
   ],
   "source": [
    "''' 내가 푼 - 백준 1697을 참고하여 (바로 풀었음) '''\n",
    "from collections import deque\n",
    "\n",
    "def bfs(L, now, goal, graph):\n",
    "    answer = 0\n",
    "    que = deque([now])\n",
    "    # 체스의 특성대로 이동\n",
    "    dy = [-2, -1, 1, 2, 2, 1, -1, -2]\n",
    "    dx = [-1, -2, -2, -1, 1, 2, 2, 1]\n",
    "    \n",
    "    while que:\n",
    "        prev_y, prev_x = que.popleft()\n",
    "        for i in range(8):\n",
    "            ny = prev_y + dy[i]\n",
    "            nx = prev_x + dx[i]\n",
    "            \n",
    "            if 0 <= ny < L and 0 <= nx < L and graph[ny][nx] == 0:\n",
    "                graph[ny][nx] = graph[prev_y][prev_x] + 1\n",
    "                que.append([ny, nx])\n",
    "                \n",
    "            if ny == goal[0] and nx == goal[1]:   # (제일 중요!!!!!!) 최단경로\n",
    "                print(graph[ny][nx])               # (중요) 바로 출력해버려\n",
    "                return                            # (중요) 그리고 끝내버려\n",
    "\n",
    "for _ in range(int(input())):\n",
    "    L = int(input())\n",
    "    now = list(map(int,input().split()))\n",
    "    goal = list(map(int,input().split()))\n",
    "    \n",
    "    graph = [[0] * L for _ in range(L)]\n",
    "    \n",
    "    if now == goal:\n",
    "        print(0)\n",
    "    else:\n",
    "        bfs(L, now, goal, graph)"
   ]
  },
  {
   "attachments": {
    "image.png": {
     "image/png": "[encoded data removed]"
    }
   },
   "cell_type": "markdown",
   "metadata": {},
   "source": [
    "![image.png](attachment:image.png)"
   ]
  },
  {
   "cell_type": "code",
   "execution_count": 14,
   "metadata": {},
   "outputs": [
    {
     "data": {
      "text/plain": [
       "[[2, 3, 2, 3, 2, 3, 4, 5],\n",
       " [3, 4, 1, 2, 3, 4, 3, 4],\n",
       " [2, 1, 4, 3, 2, 3, 4, 5],\n",
       " [3, 2, 3, 2, 3, 4, 3, 4],\n",
       " [2, 3, 2, 3, 4, 3, 4, 5],\n",
       " [3, 4, 3, 4, 3, 4, 5, 4],\n",
       " [4, 3, 4, 3, 4, 5, 4, 5],\n",
       " [5, 4, 5, 4, 5, 4, 5, 6]]"
      ]
     },
     "execution_count": 14,
     "metadata": {},
     "output_type": "execute_result"
    }
   ],
   "source": [
    "graph"
   ]
  },
  {
   "cell_type": "code",
   "execution_count": null,
   "metadata": {},
   "outputs": [],
   "source": []
  },
  {
   "cell_type": "code",
   "execution_count": null,
   "metadata": {},
   "outputs": [],
   "source": []
  },
  {
   "cell_type": "code",
   "execution_count": null,
   "metadata": {},
   "outputs": [],
   "source": []
  }
 ],
 "metadata": {
  "kernelspec": {
   "display_name": "Python 3",
   "language": "python",
   "name": "python3"
  },
  "language_info": {
   "codemirror_mode": {
    "name": "ipython",
    "version": 3
   },
   "file_extension": ".py",
   "mimetype": "text/x-python",
   "name": "python",
   "nbconvert_exporter": "python",
   "pygments_lexer": "ipython3",
   "version": "3.8.5"
  }
 },
 "nbformat": 4,
 "nbformat_minor": 4
}
