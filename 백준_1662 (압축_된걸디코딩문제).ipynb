{
 "cells": [
  {
   "cell_type": "markdown",
   "metadata": {},
   "source": [
    "## 문제 풀기 전 메모하는 연습\n",
    "\n",
    "일단 이거 어때\n",
    "\n",
    "리스트로 받아와서\n",
    "reverse를 수행해\n",
    "\n",
    "for :\n",
    " 오른쪽 끝에서부터 ')'가 아닌 것만 가져와 -> 그럼 숫자겠지\n",
    "\n",
    " 숫자를 발견하면 그것의 len()을 변수에 저장해놔\n",
    "\n",
    " len()만큼 앞으로 점프한다 -> +1(괄호('('만큼)하나 더 점프해서 걔 숫자만큼 {len * 걔}\n",
    " \n",
    "이런느낌??"
   ]
  },
  {
   "cell_type": "code",
   "execution_count": 39,
   "metadata": {},
   "outputs": [
    {
     "name": "stdout",
     "output_type": "stream",
     "text": [
      "33(562(71(9)))\n",
      "[')', ')', ')', '9', '(', '1', '7', '(', '2', '6', '5', '(', '3', '3']\n",
      "9\n",
      "(   0   1    1\n",
      "1\n",
      "7\n",
      "(   1   2    4\n",
      "2\n",
      "6\n",
      "5\n",
      "(   5   3    9\n",
      "3\n",
      "3\n"
     ]
    },
    {
     "data": {
      "text/plain": [
       "14"
      ]
     },
     "execution_count": 39,
     "metadata": {},
     "output_type": "execute_result"
    }
   ],
   "source": [
    "\n",
    "def sol(s):\n",
    "    answer = 0\n",
    "    if '(' not in s:\n",
    "        print(len(s))\n",
    "        return\n",
    "        \n",
    "    s.reverse()\n",
    "    \n",
    "    print(s)\n",
    "    \n",
    "    total_leng = len(s)\n",
    "    \n",
    "    leng = 0\n",
    "    \n",
    "    for i in range(1, total_leng):\n",
    "        \n",
    "        if s[i] == '(':\n",
    "            print(s[i], ' ', answer, ' ', leng, '  ',  int(s[i+1]) * leng)\n",
    "            answer = answer + (int(s[i+1]) * leng)\n",
    "            leng = 0\n",
    "            continue    # 밑에 녀석을 스킵하기 위해\n",
    "            \n",
    "        if s[i] != ')':     # ')'가 아닌 가장 첫 번째 숫자 차례대로 가져온다    \n",
    "            print(s[i])\n",
    "            leng += 1\n",
    "            \n",
    "    return answer\n",
    "\n",
    "sol(list(input()))"
   ]
  },
  {
   "cell_type": "markdown",
   "metadata": {},
   "source": [
    "ㅅㅡ"
   ]
  },
  {
   "cell_type": "markdown",
   "metadata": {},
   "source": [
    "\n",
    "스택을 쓴다고 생각해보자\n",
    "\n",
    "리스트에 넣고 하나씩 pop하면 다음과 같은 순서로 나와\n",
    "[')', ')', ')', '9', '(', '1', '7', '(', '2', '6', '5', '(', '3', '3']\n",
    "\n",
    "이때 pop한게 = ')'이면\n",
    "\n",
    "if pop = ) : \n",
    "if 숫자 : stack.append(숫자)  그리고 answer += 1\n",
    "\n",
    "if pop = ( : \n",
    "   leng = len(스택) 해주고\n",
    "   answer += (pop[i+1] * leng)\n",
    "   i ++ 해줘   ~> 이때 while문해버리자\n",
    "   스택.empty\n",
    "\n",
    ")\n",
    ")\n",
    ")\n",
    "\n"
   ]
  },
  {
   "cell_type": "code",
   "execution_count": 47,
   "metadata": {},
   "outputs": [
    {
     "name": "stdout",
     "output_type": "stream",
     "text": [
      "33(562(71(9)))\n"
     ]
    },
    {
     "data": {
      "text/plain": [
       "19"
      ]
     },
     "execution_count": 47,
     "metadata": {},
     "output_type": "execute_result"
    }
   ],
   "source": [
    "''' 블로그 솔루션 참고 '''\n",
    "''' => 앞에서부터 진행해서 length - 1은 더해주고, '''\n",
    "def sol(s):\n",
    "    # 시간 절약을 위해\n",
    "    if '(' not in s:\n",
    "        print(len(s))\n",
    "        return\n",
    "    \n",
    "    stack = []\n",
    "    length = 0\n",
    "    temp = ''\n",
    "    \n",
    "    for c in s:\n",
    "        if c.isdigit():\n",
    "            length += 1\n",
    "            temp = c\n",
    "        elif c == '(':\n",
    "            stack.append((temp, length - 1))\n",
    "            length = 0   # 초기화\n",
    "        else:\n",
    "            num, pre_len = stack.pop()\n",
    "            length = (int(num) * length) + pre_len\n",
    "            \n",
    "    \n",
    "    return length\n",
    "\n",
    "sol(input())"
   ]
  },
  {
   "cell_type": "code",
   "execution_count": null,
   "metadata": {},
   "outputs": [],
   "source": []
  },
  {
   "cell_type": "code",
   "execution_count": null,
   "metadata": {},
   "outputs": [],
   "source": []
  },
  {
   "cell_type": "code",
   "execution_count": 18,
   "metadata": {},
   "outputs": [
    {
     "name": "stdout",
     "output_type": "stream",
     "text": [
      "['1', ')66', '5)']\n"
     ]
    }
   ],
   "source": [
    "arr = '1()66(5)'\n",
    "\n",
    "bb = arr.split('(')\n",
    "print(bb)"
   ]
  },
  {
   "cell_type": "code",
   "execution_count": 20,
   "metadata": {},
   "outputs": [
    {
     "name": "stdout",
     "output_type": "stream",
     "text": [
      "Help on class enumerate in module builtins:\n",
      "\n",
      "class enumerate(object)\n",
      " |  enumerate(iterable, start=0)\n",
      " |  \n",
      " |  Return an enumerate object.\n",
      " |  \n",
      " |    iterable\n",
      " |      an object supporting iteration\n",
      " |  \n",
      " |  The enumerate object yields pairs containing a count (from start, which\n",
      " |  defaults to zero) and a value yielded by the iterable argument.\n",
      " |  \n",
      " |  enumerate is useful for obtaining an indexed list:\n",
      " |      (0, seq[0]), (1, seq[1]), (2, seq[2]), ...\n",
      " |  \n",
      " |  Methods defined here:\n",
      " |  \n",
      " |  __getattribute__(self, name, /)\n",
      " |      Return getattr(self, name).\n",
      " |  \n",
      " |  __iter__(self, /)\n",
      " |      Implement iter(self).\n",
      " |  \n",
      " |  __next__(self, /)\n",
      " |      Implement next(self).\n",
      " |  \n",
      " |  __reduce__(...)\n",
      " |      Return state information for pickling.\n",
      " |  \n",
      " |  ----------------------------------------------------------------------\n",
      " |  Static methods defined here:\n",
      " |  \n",
      " |  __new__(*args, **kwargs) from builtins.type\n",
      " |      Create and return a new object.  See help(type) for accurate signature.\n",
      "\n"
     ]
    }
   ],
   "source": [
    "help(enumerate)"
   ]
  },
  {
   "cell_type": "code",
   "execution_count": null,
   "metadata": {},
   "outputs": [],
   "source": []
  }
 ],
 "metadata": {
  "kernelspec": {
   "display_name": "Python 3",
   "language": "python",
   "name": "python3"
  },
  "language_info": {
   "codemirror_mode": {
    "name": "ipython",
    "version": 3
   },
   "file_extension": ".py",
   "mimetype": "text/x-python",
   "name": "python",
   "nbconvert_exporter": "python",
   "pygments_lexer": "ipython3",
   "version": "3.8.5"
  }
 },
 "nbformat": 4,
 "nbformat_minor": 4
}
