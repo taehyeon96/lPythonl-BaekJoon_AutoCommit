{
 "cells": [
  {
   "cell_type": "markdown",
   "metadata": {},
   "source": [
    "### 메모\n",
    "\n",
    "* 가장 최근에 = 라스트인 퍼스트 아웃 = Stack\n",
    "\n",
    "* 이건 너무 쉽다"
   ]
  },
  {
   "cell_type": "code",
   "execution_count": 3,
   "metadata": {},
   "outputs": [
    {
     "name": "stdout",
     "output_type": "stream",
     "text": [
      "10\n",
      "1\n",
      "3\n",
      "5\n",
      "4\n",
      "0\n",
      "0\n",
      "7\n",
      "0\n",
      "0\n",
      "6\n",
      "7\n"
     ]
    }
   ],
   "source": [
    "ans = []\n",
    "for _ in range(int(input())):\n",
    "    num = int(input())\n",
    "    ans.pop() if num == 0 else ans.append(num)\n",
    "    \n",
    "print(sum(ans))"
   ]
  },
  {
   "cell_type": "code",
   "execution_count": null,
   "metadata": {},
   "outputs": [],
   "source": []
  },
  {
   "cell_type": "markdown",
   "metadata": {},
   "source": [
    "### 1406번 메모\n",
    "\n",
    "* 앞뒤로 추가하고 하는거 보니 deque쓰는게 나을듯\n",
    "\n",
    "* 주의사항은 \"P $\"할 때, 커서의 왼쪽 =/= 큐의 맨왼쪽 주의해라\n",
    "\n",
    "* 커서는 초기에 맨 오른쪽에 있는듯\n"
   ]
  },
  {
   "cell_type": "code",
   "execution_count": 27,
   "metadata": {},
   "outputs": [
    {
     "name": "stdout",
     "output_type": "stream",
     "text": [
      "dmih\n",
      "11\n",
      "B\n",
      "B\n",
      "P x\n",
      "L\n",
      "B\n",
      "B\n",
      "B\n",
      "P y\n",
      "D\n",
      "D\n",
      "P z\n",
      "yxz\n"
     ]
    }
   ],
   "source": [
    "\n",
    "arr = list(input())\n",
    "end = int(input())\n",
    "\n",
    "arr.insert(0,'0') # (중요) 맨 왼쪽 커서의 자리 추가\n",
    "\n",
    "cusor = len(arr)  # (중요) cursor는 index값이고, 초기에 맨 끝에 있어야함!!!\n",
    "\n",
    "for _ in range(end):\n",
    "    comm = input()\n",
    "    \n",
    "    if comm[0] == 'L' and cusor > 1:        # 맨앞에 있으면 이동 불가\n",
    "        cusor -= 1\n",
    "    elif comm[0] == 'D' and cusor < end-1:  # 맨 뒤에 있으면 이동 불가\n",
    "        cusor += 1\n",
    "    elif comm[0] == 'B':\n",
    "        if cusor - 1 <= 0:\n",
    "            continue\n",
    "        tmp_l = arr[:cusor]\n",
    "        tmp_r = arr[cusor:]\n",
    "        tmp_l.pop()\n",
    "        arr = tmp_l + tmp_r\n",
    "        cusor -= 1\n",
    "    elif comm[0] == 'P':\n",
    "        tmp_l = arr[:cusor]\n",
    "        tmp_r = arr[cusor:]\n",
    "        tmp_l.append(comm[2])\n",
    "        arr = tmp_l + tmp_r\n",
    "        cusor += 1\n",
    "        \n",
    "print(''.join(arr[1:]))"
   ]
  },
  {
   "cell_type": "code",
   "execution_count": 35,
   "metadata": {},
   "outputs": [
    {
     "name": "stdout",
     "output_type": "stream",
     "text": [
      "abcd\n",
      "3\n",
      "P x\n",
      "L\n",
      "P y\n",
      "abcdyx\n"
     ]
    }
   ],
   "source": [
    "''' 블로그 아이디어 인용한 풀이 (스택 2개) '''\n",
    "\n",
    "left = list(input())\n",
    "right = []\n",
    "end = int(input())\n",
    "\n",
    "\n",
    "for _ in range(end):\n",
    "    comm = input()\n",
    "    \n",
    "    # 왼쪽 스택에 데이터 있으면 맨 끝 데이터를 오른쪽으로 이동\n",
    "    if comm[0] == 'L':\n",
    "        if left:  right.append(left.pop())\n",
    "    \n",
    "    # 오른쪽 스택에 데이터 있으면 맨 앞 데이터를 왼쪽으로 이동 (오른쪽은 거꾸로 생각!)\n",
    "    elif comm[0] == 'D':\n",
    "        if right: left.append(right.pop())\n",
    "    \n",
    "    # 커서 왼쪽에 데이터 있으면 pop() = 데이터 삭제\n",
    "    elif comm[0] == 'B':\n",
    "        if left: left.pop()\n",
    "    \n",
    "    # 커서 왼쪽에 데이터 추가 = 왼쪽 스택에 append()\n",
    "    elif comm[0] == 'P':\n",
    "        left.append(comm[2])\n",
    "\n",
    "right = right[::-1]\n",
    "print(''.join(left+right))"
   ]
  },
  {
   "cell_type": "code",
   "execution_count": 35,
   "metadata": {},
   "outputs": [
    {
     "name": "stdout",
     "output_type": "stream",
     "text": [
      "abcd\n",
      "3\n",
      "P x\n",
      "L\n",
      "P y\n",
      "abcdyx\n"
     ]
    }
   ],
   "source": [
    "\n",
    "import sys\n",
    "\n",
    "left = list(sys.stdin.readline().strip())  # .strip()를 해줘야한다.... 이거안하니까 계속 틀림\n",
    "right = []\n",
    "end = int(sys.stdin.readline())\n",
    "\n",
    "for comm in sys.stdin.readline():    \n",
    "    if comm[0] == 'L' and left:    right.append(left.pop())    \n",
    "    elif comm[0] == 'D' and right: left.append(right.pop())    \n",
    "    elif comm[0] == 'B' and left:  left.pop()    \n",
    "    elif comm[0] == 'P':            left.append(comm[2])\n",
    "\n",
    "print(''.join(left+list(reversed(right))))"
   ]
  },
  {
   "cell_type": "code",
   "execution_count": 39,
   "metadata": {},
   "outputs": [
    {
     "data": {
      "text/plain": [
       "[23, 5, 7, 1, 3, 2]"
      ]
     },
     "execution_count": 39,
     "metadata": {},
     "output_type": "execute_result"
    }
   ],
   "source": [
    "ads = [23]\n",
    "ppp = [2, 3, 1, 7, 5]\n",
    "ads + list(reversed(ppp))\n"
   ]
  },
  {
   "cell_type": "code",
   "execution_count": 14,
   "metadata": {},
   "outputs": [
    {
     "name": "stdout",
     "output_type": "stream",
     "text": [
      "abc\n",
      "9\n",
      "L\n",
      "L\n",
      "L\n",
      "L\n",
      "L\n",
      "P x\n",
      "L\n",
      "B\n",
      "P y\n",
      "yxabc\n"
     ]
    }
   ],
   "source": [
    "import sys\n",
    "\n",
    "arr = list(sys.stdin.readline())\n",
    "end = int(sys.stdin.readline())\n",
    "\n",
    "arr.insert(0,'0') # (중요) 맨 왼쪽 커서의 자리 추가\n",
    "\n",
    "cusor = len(arr)  # (중요) cursor는 index값이고, 초기에 맨 끝에 있어야함!!!\n",
    "\n",
    "for _ in range(end):\n",
    "    comm = sys.stdin.readline()\n",
    "    \n",
    "    if comm[0] == 'L' and cusor > 1:        # 맨앞에 있으면 이동 불가\n",
    "        cusor -= 1\n",
    "    elif comm[0] == 'D' and cusor < end-1:  # 맨 뒤에 있으면 이동 불가\n",
    "        cusor += 1\n",
    "    elif comm[0] == 'B':\n",
    "        if cusor - 1 <= 0:\n",
    "            continue\n",
    "        tmp_l = arr[:cusor]\n",
    "        tmp_r = arr[cusor:]\n",
    "        tmp_l.pop()\n",
    "        arr = tmp_l + tmp_r\n",
    "        cusor -= 1\n",
    "    elif comm[0] == 'P':\n",
    "        tmp_l = arr[:cusor]\n",
    "        tmp_r = arr[cusor:]\n",
    "        tmp_l.append(comm[2])\n",
    "        arr = tmp_l + tmp_r\n",
    "        cusor += 1\n",
    "        \n",
    "print(''.join(arr[1:]))"
   ]
  },
  {
   "cell_type": "code",
   "execution_count": 22,
   "metadata": {},
   "outputs": [
    {
     "name": "stdout",
     "output_type": "stream",
     "text": [
      "Help on method_descriptor:\n",
      "\n",
      "append(self, object, /)\n",
      "    Append object to the end of the list.\n",
      "\n"
     ]
    }
   ],
   "source": [
    "help(list.append)"
   ]
  },
  {
   "cell_type": "code",
   "execution_count": 16,
   "metadata": {},
   "outputs": [
    {
     "name": "stdout",
     "output_type": "stream",
     "text": [
      "P x\n"
     ]
    },
    {
     "data": {
      "text/plain": [
       "'P x'"
      ]
     },
     "execution_count": 16,
     "metadata": {},
     "output_type": "execute_result"
    }
   ],
   "source": [
    "comm = input()\n",
    "comm"
   ]
  },
  {
   "cell_type": "code",
   "execution_count": 18,
   "metadata": {},
   "outputs": [
    {
     "data": {
      "text/plain": [
       "'x'"
      ]
     },
     "execution_count": 18,
     "metadata": {},
     "output_type": "execute_result"
    }
   ],
   "source": [
    "comm[2]"
   ]
  },
  {
   "cell_type": "code",
   "execution_count": 26,
   "metadata": {},
   "outputs": [
    {
     "name": "stdout",
     "output_type": "stream",
     "text": [
      "[2, 3, 1, 7, 5]\n"
     ]
    }
   ],
   "source": [
    "asd = [2,3,1,4,5]\n",
    "asd.pop(3-1)\n",
    "asd.insert(3,7)\n",
    "print(asd)"
   ]
  }
 ],
 "metadata": {
  "kernelspec": {
   "display_name": "Python 3",
   "language": "python",
   "name": "python3"
  },
  "language_info": {
   "codemirror_mode": {
    "name": "ipython",
    "version": 3
   },
   "file_extension": ".py",
   "mimetype": "text/x-python",
   "name": "python",
   "nbconvert_exporter": "python",
   "pygments_lexer": "ipython3",
   "version": "3.8.5"
  }
 },
 "nbformat": 4,
 "nbformat_minor": 4
}
