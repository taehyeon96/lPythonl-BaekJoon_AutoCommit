{
 "cells": [
  {
   "cell_type": "markdown",
   "metadata": {},
   "source": [
    "# 메모\n",
    "\n",
    "* () 쌍을 스택에 넣으면서 진행하면 될거같은데\n",
    "\n",
    "* 막대기 같은 경우는 (가 시작점이고, )가 나오면 막대기 끝인데\n",
    "  - ()가 연달아서 나오는 경우엔 막대기가 아닌 레이저임\n",
    "  \n",
    "* 레이저가 잘리는게 아니라, 쇠막대기가 잘리는거!!!\n",
    "\n",
    "1. 괄호가 열릴 때마다 = '('등장할 때마다 스택에 append()\n",
    "2. 넣으면서 ()가 나오면 다른 tmp에 레이저 수++ 해준다\n",
    "3. 괄호가 닫힐 때마다 = ')' 등장할 때마다 스택에서 pop()\n",
    "   - answer = 레이저수 + 1 해준다"
   ]
  },
  {
   "cell_type": "code",
   "execution_count": 8,
   "metadata": {},
   "outputs": [
    {
     "name": "stdout",
     "output_type": "stream",
     "text": [
      "()(((()())(())()))(())\n",
      "17\n"
     ]
    }
   ],
   "source": [
    "arr = input()\n",
    "stack = []\n",
    "ans = 0\n",
    "leng = len(arr)\n",
    "\n",
    "for i in range(leng):      # ')'부터 들어올일은 없음\n",
    "    if arr[i] == '(':\n",
    "        stack.append('(')\n",
    "        ans += 1\n",
    "        \n",
    "    elif arr[i] == ')':\n",
    "        # this is laser\n",
    "        if arr[i-1] == '(':\n",
    "            stack.pop()\n",
    "            ans -= 1\n",
    "            ans += len(stack)\n",
    "        else:\n",
    "            stack.pop()\n",
    "print(ans)"
   ]
  },
  {
   "cell_type": "markdown",
   "metadata": {},
   "source": [
    "(  stack.append() & += 1\n",
    " ( stack.append() & += 1\n",
    "  ( stack.append() & += 1\n",
    "   ( stack.append() & += 1\n",
    "    ) if [i-1] == '(' :   pop() & -= 1 &  += len(stack) x2\n",
    "     ( stack.append() & += 1\n",
    "      ) if [i-1] == '(' :   pop() & -= 1 &  += len(stack) x2   여기까진 계산상 맞음\n",
    "       ) if [i-1] == ')' : pop()                               이러면 되지않나?\n",
    "        ( stack.append() & += 1\n",
    "         ( stack.append() & += 1\n",
    "          ) if [i-1] == '(' :   pop() & -= 1 &  += len(stack) x2\n",
    "           ) if [i-1] == ')' : pop()                            이러면 되지않나?\n",
    "            ( stack.append() & += 1\n",
    "             ) if [i-1] == '(' :   pop() & -= 1 &  += len(stack) x2\n",
    "\n",
    "\n"
   ]
  },
  {
   "cell_type": "code",
   "execution_count": null,
   "metadata": {},
   "outputs": [],
   "source": []
  },
  {
   "cell_type": "code",
   "execution_count": null,
   "metadata": {},
   "outputs": [],
   "source": [
    "import sys\n",
    "arr = sys.stdin.readline()\n",
    "stack = []\n",
    "ans = 0\n",
    "leng = len(arr)\n",
    "\n",
    "for i in range(leng):           # ')'부터 들어올일은 없음\n",
    "    if arr[i] == '(':\n",
    "        stack.append('(')       # 스택 길이 늘린다 = 잘려있는 막대기\n",
    "        ans += 1                # 막대기 수 추가\n",
    "        \n",
    "    elif arr[i] == ')':\n",
    "        # this is laser\n",
    "        if arr[i-1] == '(':\n",
    "            stack.pop()\n",
    "            ans -= 1            # 막대기 수 추가 취소\n",
    "            ans += len(stack)   # 막대기 수 스택 길이만큼 추가(= 2배)\n",
    "        # this is not laser\n",
    "        else:\n",
    "            stack.pop()          # 스택의 길이만 줄여주자!\n",
    "            \n",
    "print(ans)"
   ]
  },
  {
   "cell_type": "code",
   "execution_count": null,
   "metadata": {},
   "outputs": [],
   "source": []
  },
  {
   "cell_type": "code",
   "execution_count": null,
   "metadata": {},
   "outputs": [],
   "source": []
  }
 ],
 "metadata": {
  "kernelspec": {
   "display_name": "Python 3",
   "language": "python",
   "name": "python3"
  },
  "language_info": {
   "codemirror_mode": {
    "name": "ipython",
    "version": 3
   },
   "file_extension": ".py",
   "mimetype": "text/x-python",
   "name": "python",
   "nbconvert_exporter": "python",
   "pygments_lexer": "ipython3",
   "version": "3.8.5"
  }
 },
 "nbformat": 4,
 "nbformat_minor": 4
}
