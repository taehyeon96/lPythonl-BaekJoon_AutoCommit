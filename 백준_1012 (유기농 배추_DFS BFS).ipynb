{
 "cells": [
  {
   "cell_type": "markdown",
   "metadata": {},
   "source": [
    "얘도 BFS네 뭐 (특히, 어떤 배추에 배추흰지렁이가 한 마리라도 살고 있으면 이 지렁이는 인접한 다른 배추로 이동할 수 있어,)\n",
    "\n",
    "체크할 사항\n",
    "* 상하좌우 네 방향으로만 인접한 것으로 취급\n",
    "* 1 = 배추  //  0 = 배추x\n",
    "* 배추 한 그룹 당 지렁이 1마리만 있으면 된다\n",
    "    - DFS였네!!!!!!!!!!!!!!!!!!!\n",
    "    - 일단 1차적으로 while로 풀스캔하는데 그 안에서 for DFS() 1회 수행 시 cnt += 1\n",
    "    - 동빈나였나 어디 문제랑 비슷한 유형임 결국\n",
    "    \n",
    "* Input에서 N x M 행렬이다 (N x N 아님)\n",
    "\n",
    "* K개의 배추가 있고, (x, y)로 입력받는다 => 좌표로 그래프 배열 만들어야한다(이웃 이런거 필요 X)\n",
    "    - 만들고 나서 위에 써둔거 수행하면 될듯"
   ]
  },
  {
   "cell_type": "code",
   "execution_count": 31,
   "metadata": {
    "scrolled": true
   },
   "outputs": [
    {
     "name": "stdout",
     "output_type": "stream",
     "text": [
      "1\n",
      "x, y =  0   0\n",
      "nx, ny =  1   0\n",
      "x, y =  1   0\n",
      "nx, ny =  0   0\n",
      "nx, ny =  2   0\n",
      "nx, ny =  1   1\n",
      "x, y =  1   1\n",
      "nx, ny =  0   1\n",
      "nx, ny =  2   1\n",
      "nx, ny =  1   0\n",
      "nx, ny =  1   2\n",
      "------------\n",
      "------------\n",
      "nx, ny =  0   1\n",
      "------------\n",
      "x, y =  4   2\n",
      "nx, ny =  3   2\n",
      "nx, ny =  5   2\n",
      "nx, ny =  4   1\n",
      "nx, ny =  4   3\n",
      "x, y =  4   3\n",
      "nx, ny =  3   3\n",
      "nx, ny =  5   3\n",
      "nx, ny =  4   2\n",
      "nx, ny =  4   4\n",
      "------------\n",
      "------------\n",
      "x, y =  4   5\n",
      "nx, ny =  3   5\n",
      "nx, ny =  5   5\n",
      "nx, ny =  4   4\n",
      "nx, ny =  4   6\n",
      "------------\n",
      "x, y =  2   4\n",
      "nx, ny =  1   4\n",
      "nx, ny =  3   4\n",
      "x, y =  3   4\n",
      "nx, ny =  2   4\n",
      "nx, ny =  4   4\n",
      "nx, ny =  3   3\n",
      "nx, ny =  3   5\n",
      "------------\n",
      "nx, ny =  2   3\n",
      "nx, ny =  2   5\n",
      "------------\n",
      "x, y =  7   4\n",
      "nx, ny =  6   4\n",
      "nx, ny =  7   3\n",
      "nx, ny =  7   5\n",
      "x, y =  7   5\n",
      "nx, ny =  6   5\n",
      "nx, ny =  7   4\n",
      "nx, ny =  7   6\n",
      "x, y =  7   6\n",
      "nx, ny =  6   6\n",
      "nx, ny =  7   5\n",
      "nx, ny =  7   7\n",
      "------------\n",
      "------------\n",
      "------------\n",
      "x, y =  8   4\n",
      "nx, ny =  7   4\n",
      "------------\n",
      "x, y =  9   4\n",
      "------------\n",
      "x, y =  8   5\n",
      "nx, ny =  7   5\n",
      "------------\n",
      "x, y =  9   5\n",
      "------------\n",
      "x, y =  8   6\n",
      "nx, ny =  7   6\n",
      "------------\n",
      "x, y =  9   6\n",
      "------------\n",
      "11\n"
     ]
    }
   ],
   "source": [
    "''' 내가 푼 1차 접근 - x,y 를 거꾸로 잘못했다 '''\n",
    "def dfs(x, y, graph, m, n):\n",
    "    graph[x][y] = 0                      # DFS니까 다시는 올 수 없게 체크\n",
    "    #     상 하 좌 우  (근데 내가 꺼꾸로함 원래 (y,x)인데 )\n",
    "    dx = [-1, 1, 0, 0]\n",
    "    dy = [0, 0, -1, 1]\n",
    "    print('x, y = ', x, ' ', y)\n",
    "    for i in range(4):\n",
    "        ny = y + dy[i]\n",
    "        nx = x + dx[i]\n",
    "        if ny < 0 or m <= ny or nx < 0 or n <= nx:\n",
    "            continue\n",
    "        \n",
    "        print('nx, ny = ', nx, ' ', ny)\n",
    "        if graph[nx][ny] == 1:\n",
    "            dfs(nx, ny, graph, m, n)\n",
    "    print('------------')\n",
    "\n",
    "for _ in range(int(input())):            # 테스트케이스 개수 t (밑에 10 10 1 은 새로운 테스트케이스임)\n",
    "    answer = 0\n",
    "    '''\n",
    "    m, n, k = map(int, input().split())  # 가로 m   세로 n   배추 개수 k\n",
    "    \n",
    "    arr = []\n",
    "    \n",
    "    # 그래프 생성\n",
    "    graph = [[0 for _ in range(n)] for _ in range(m)]\n",
    "    for _ in range(k):\n",
    "        x, y = map(int, input().split())\n",
    "        graph[x][y] = 1\n",
    "        arr.append([x, y])               # 브루트폴스 안하고 필요한 위치만 하기 위함\n",
    "    '''\n",
    "    # 입력 귀찮아서 값을 박아둠\n",
    "    m, n, k = 10, 8, 17\n",
    "    graph = [[1, 0, 0, 0, 0, 0, 0, 0], \n",
    "             [1, 1, 0, 0, 0, 0, 0, 0], \n",
    "             [0, 0, 0, 0, 1, 0, 0, 0], \n",
    "             [0, 0, 0, 0, 1, 0, 0, 0], \n",
    "             [0, 0, 1, 1, 0, 1, 0, 0], \n",
    "             [0, 0, 0, 0, 0, 0, 0, 0], \n",
    "             [0, 0, 0, 0, 0, 0, 0, 0], \n",
    "             [0, 0, 0, 0, 1, 1, 1, 0], \n",
    "             [0, 0, 0, 0, 1, 1, 1, 0], \n",
    "             [0, 0, 0, 0, 1, 1, 1, 0]]\n",
    "    arr = [[0, 0], [1, 0], [1, 1], [4, 2], [4, 3], [4, 5], [2, 4], [3, 4], [7, 4], [8, 4], [9, 4], [7, 5], [8, 5], [9, 5], [7, 6], [8, 6], [9, 6]]\n",
    "\n",
    "    for x, y in arr:                    # 브루트폴스 안하고 필요한 위치만 하기 위함\n",
    "        if graph[x][y] == 1:\n",
    "            dfs(x, y, graph, m, n)\n",
    "            answer += 1                  # DFS \"순회\"가 1회 끝날 때마다 +1\n",
    "    print(answer)\n",
    "        "
   ]
  },
  {
   "cell_type": "code",
   "execution_count": 37,
   "metadata": {
    "scrolled": true
   },
   "outputs": [
    {
     "name": "stdout",
     "output_type": "stream",
     "text": [
      "1\n",
      "5\n"
     ]
    }
   ],
   "source": [
    "''' 내가 푼 -> xy 다시! 뒤집어 -> 귀찮아서 값 박아둔 솔루션 (답은 맞는데 sys안써서 런타임 에러가 떴음) '''\n",
    "def dfs(y, x, graph, m, n):\n",
    "    graph[y][x] = 0                      # DFS니까 다시는 올 수 없게 체크\n",
    "    #     상 하 좌 우 \n",
    "    dy = [-1, 1, 0, 0]\n",
    "    dx = [0, 0, -1, 1]\n",
    "    \n",
    "    for i in range(4):\n",
    "        ny = y + dy[i]\n",
    "        nx = x + dx[i]\n",
    "        if ny < 0 or m <= ny or nx < 0 or n <= nx:\n",
    "            continue\n",
    "       \n",
    "        if graph[ny][nx] == 1:\n",
    "            dfs(ny, nx, graph, m, n)\n",
    "\n",
    "for _ in range(int(input())):            # 테스트케이스 개수 t (밑에 10 10 1 은 새로운 테스트케이스임)\n",
    "    answer = 0\n",
    "    '''\n",
    "    m, n, k = map(int, input().split())  # 가로 m   세로 n   배추 개수 k\n",
    "    \n",
    "    arr = []\n",
    "    \n",
    "    # 그래프 생성\n",
    "    graph = [[0 for _ in range(n)] for _ in range(m)]\n",
    "    for _ in range(k):\n",
    "        x, y = map(int, input().split())\n",
    "        graph[x][y] = 1\n",
    "        arr.append([x, y])               # 브루트폴스 안하고 필요한 위치만 하기 위함\n",
    "    '''\n",
    "    m, n, k = 10, 8, 17\n",
    "    graph = [[1, 0, 0, 0, 0, 0, 0, 0], \n",
    "             [1, 1, 0, 0, 0, 0, 0, 0], \n",
    "             [0, 0, 0, 0, 1, 0, 0, 0], \n",
    "             [0, 0, 0, 0, 1, 0, 0, 0], \n",
    "             [0, 0, 1, 1, 0, 1, 0, 0], \n",
    "             [0, 0, 0, 0, 0, 0, 0, 0], \n",
    "             [0, 0, 0, 0, 0, 0, 0, 0], \n",
    "             [0, 0, 0, 0, 1, 1, 1, 0], \n",
    "             [0, 0, 0, 0, 1, 1, 1, 0], \n",
    "             [0, 0, 0, 0, 1, 1, 1, 0]]\n",
    "    arr = [[0, 0], [1, 0], [1, 1], [4, 2], [4, 3], [4, 5], [2, 4], [3, 4], [7, 4], [8, 4], [9, 4], [7, 5], [8, 5], [9, 5], [7, 6], [8, 6], [9, 6]]\n",
    "    \n",
    "    for i in range(k):\n",
    "        arr[i].reverse()\n",
    "    \n",
    "    for x, y in arr:                    # 브루트폴스 안하고 필요한 위치만 하기 위함\n",
    "        if graph[y][x] == 1:\n",
    "            dfs(y, x, graph, m, n)\n",
    "            answer += 1                  # DFS \"순회\"가 1회 끝날 때마다 +1\n",
    "    print(answer)\n",
    "        "
   ]
  },
  {
   "cell_type": "code",
   "execution_count": 38,
   "metadata": {
    "scrolled": true
   },
   "outputs": [
    {
     "name": "stdout",
     "output_type": "stream",
     "text": [
      "1\n",
      "5 3 6\n",
      "0 2\n",
      "1 2\n",
      "2 2\n",
      "3 2\n",
      "4 2\n",
      "4 0\n",
      "2\n"
     ]
    }
   ],
   "source": [
    "''' 내가 푼 -> xy 다시! 뒤집어 -> 제출용 '''\n",
    "import sys\n",
    "sys.setrecursionlimit(10**5)             # (중요) Recursion 늘리기!!!\n",
    "\n",
    "def dfs(y, x, graph, m, n):\n",
    "    graph[y][x] = 0                      # DFS니까 다시는 올 수 없게 체크\n",
    "    #     상 하 좌 우 \n",
    "    dy = [-1, 1, 0, 0]\n",
    "    dx = [0, 0, -1, 1]\n",
    "    \n",
    "    for i in range(4):\n",
    "        ny = y + dy[i]\n",
    "        nx = x + dx[i]\n",
    "        if ny < 0 or m <= ny or nx < 0 or n <= nx:\n",
    "            continue\n",
    "       \n",
    "        if graph[ny][nx] == 1:\n",
    "            dfs(ny, nx, graph, m, n)\n",
    "\n",
    "for _ in range(int(input())):            # 테스트케이스 개수 t (밑에 10 10 1 은 새로운 테스트케이스임)\n",
    "    answer = 0\n",
    "    \n",
    "    m, n, k = map(int, input().split())  # 가로 m   세로 n   배추 개수 k\n",
    "    \n",
    "    arr = []\n",
    "    \n",
    "    # 그래프 생성\n",
    "    graph = [[0 for _ in range(n)] for _ in range(m)]\n",
    "    for _ in range(k):\n",
    "        x, y = map(int, input().split())\n",
    "        graph[x][y] = 1\n",
    "        arr.append([x, y])               # 브루트폴스 안하고 필요한 위치만 하기 위함\n",
    "        \n",
    "    for i in range(k):\n",
    "        arr[i].reverse()\n",
    "    \n",
    "    for x, y in arr:                    # 브루트폴스 안하고 필요한 위치만 하기 위함\n",
    "        if graph[y][x] == 1:\n",
    "            dfs(y, x, graph, m, n)\n",
    "            answer += 1                  # DFS \"순회\"가 1회 끝날 때마다 +1\n",
    "    print(answer)\n",
    "        "
   ]
  },
  {
   "cell_type": "code",
   "execution_count": 15,
   "metadata": {},
   "outputs": [],
   "source": [
    "m, n, k = 10, 8, 17\n",
    "graph = [[1, 0, 0, 0, 0, 0, 0, 0], \n",
    "         [1, 1, 0, 0, 0, 0, 0, 0], \n",
    "         [0, 0, 0, 0, 1, 0, 0, 0], \n",
    "         [0, 0, 0, 0, 1, 0, 0, 0], \n",
    "         [0, 0, 1, 1, 0, 1, 0, 0], \n",
    "         [0, 0, 0, 0, 0, 0, 0, 0], \n",
    "         [0, 0, 0, 0, 0, 0, 0, 0], \n",
    "         [0, 0, 0, 0, 1, 1, 1, 0], \n",
    "         [0, 0, 0, 0, 1, 1, 1, 0], \n",
    "         [0, 0, 0, 0, 1, 1, 1, 0]]\n",
    "\n",
    "sol(m,n,k,graph)"
   ]
  },
  {
   "cell_type": "code",
   "execution_count": 35,
   "metadata": {},
   "outputs": [
    {
     "name": "stdout",
     "output_type": "stream",
     "text": [
      "[[0, 0], [1, 0], [1, 1], [4, 2], [4, 3], [4, 5], [2, 4], [3, 4], [7, 4], [8, 4], [9, 4], [7, 5], [8, 5], [9, 5], [7, 6], [8, 6], [9, 6]]\n",
      "[[0, 0], [0, 1], [1, 1], [2, 4], [3, 4], [5, 4], [4, 2], [4, 3], [4, 7], [4, 8], [4, 9], [5, 7], [5, 8], [5, 9], [6, 7], [6, 8], [6, 9]]\n"
     ]
    }
   ],
   "source": [
    "print(arr)\n",
    "for i in range(17):\n",
    "    arr[i].reverse()\n",
    "    \n",
    "print(arr)"
   ]
  },
  {
   "cell_type": "code",
   "execution_count": 42,
   "metadata": {},
   "outputs": [
    {
     "data": {
      "text/plain": [
       "0"
      ]
     },
     "execution_count": 42,
     "metadata": {},
     "output_type": "execute_result"
    }
   ],
   "source": [
    "graph.count('0')"
   ]
  },
  {
   "cell_type": "code",
   "execution_count": 27,
   "metadata": {},
   "outputs": [
    {
     "data": {
      "text/plain": [
       "[[0, 0],\n",
       " [1, 0],\n",
       " [1, 1],\n",
       " [4, 2],\n",
       " [4, 3],\n",
       " [4, 5],\n",
       " [2, 4],\n",
       " [3, 4],\n",
       " [7, 4],\n",
       " [8, 4],\n",
       " [9, 4],\n",
       " [7, 5],\n",
       " [8, 5],\n",
       " [9, 5],\n",
       " [7, 6],\n",
       " [8, 6],\n",
       " [9, 6]]"
      ]
     },
     "execution_count": 27,
     "metadata": {},
     "output_type": "execute_result"
    }
   ],
   "source": [
    "arr"
   ]
  },
  {
   "cell_type": "code",
   "execution_count": null,
   "metadata": {},
   "outputs": [],
   "source": []
  }
 ],
 "metadata": {
  "kernelspec": {
   "display_name": "Python 3",
   "language": "python",
   "name": "python3"
  },
  "language_info": {
   "codemirror_mode": {
    "name": "ipython",
    "version": 3
   },
   "file_extension": ".py",
   "mimetype": "text/x-python",
   "name": "python",
   "nbconvert_exporter": "python",
   "pygments_lexer": "ipython3",
   "version": "3.8.5"
  }
 },
 "nbformat": 4,
 "nbformat_minor": 4
}
