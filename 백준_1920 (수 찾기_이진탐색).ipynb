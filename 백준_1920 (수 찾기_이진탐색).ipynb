{
 "cells": [
  {
   "cell_type": "code",
   "execution_count": null,
   "metadata": {},
   "outputs": [],
   "source": []
  },
  {
   "cell_type": "code",
   "execution_count": 2,
   "metadata": {},
   "outputs": [
    {
     "name": "stdout",
     "output_type": "stream",
     "text": [
      "Target's index num =  3\n"
     ]
    }
   ],
   "source": [
    "# 타겟을 제외한 모든 값은 index 넘버로 사용함을 주의하자!!\n",
    "\n",
    "def bin_search(array, target, start, end):\n",
    "    while start <= end:\n",
    "        pivot = (start + end) // 2\n",
    "        \n",
    "        if target == array[pivot]:\n",
    "            return pivot\n",
    "        # 찾지 못한 경우 index값을 당겨준다!!!\n",
    "        elif target < array[pivot]:\n",
    "            end = pivot-1\n",
    "        elif target > array[pivot]:\n",
    "            start = pivot+1\n",
    "        \n",
    "    return None  # (중요) 도출할 결과 없으면 이렇게!!! <-- DFS에서도 써먹어\n",
    "\n",
    "n = 10\n",
    "target = 7\n",
    "array = [1, 3, 5, 7, 9, 11, 13, 15, 17, 19]\n",
    "\n",
    "result = bin_search(array, target, 0, n-1)\n",
    "\n",
    "if result:\n",
    "    print(\"Target's index num = \", result)\n",
    "else:\n",
    "    print(\"해당 원소가 없음\")\n"
   ]
  },
  {
   "cell_type": "code",
   "execution_count": null,
   "metadata": {},
   "outputs": [],
   "source": []
  },
  {
   "cell_type": "code",
   "execution_count": 7,
   "metadata": {},
   "outputs": [
    {
     "name": "stdout",
     "output_type": "stream",
     "text": [
      "5\n",
      "4 1 5 2 3\n",
      "5\n",
      "1 3 7 9 5\n",
      "1\n",
      "1\n",
      "0\n",
      "0\n",
      "1\n"
     ]
    }
   ],
   "source": [
    "def bin_search(start, end, arr, target):\n",
    "    while start <= end:\n",
    "        pivot = (start+end)//2     # (중요) while문 안에서 계산!\n",
    "        \n",
    "        if target == arr[pivot]:\n",
    "            return 1\n",
    "        elif target < arr[pivot]:\n",
    "            end = pivot-1\n",
    "        elif target > arr[pivot]:\n",
    "            start = pivot+1\n",
    "    return 0\n",
    "    \n",
    "n = int(input())\n",
    "arr = list(map(int,input().split()))\n",
    "m = int(input())\n",
    "target_list = list(map(int,input().split()))\n",
    "\n",
    "arr.sort() # (매우중요)\n",
    "\n",
    "for target in target_list:\n",
    "    print(bin_search(0, n-1, arr, target))  # (매우중요) n-1을 넣어주어야 한다"
   ]
  },
  {
   "cell_type": "code",
   "execution_count": 8,
   "metadata": {},
   "outputs": [
    {
     "name": "stdout",
     "output_type": "stream",
     "text": [
      "5\n",
      "4 1 5 2 3\n",
      "5\n",
      "1 3 7 9 5\n",
      "1\n",
      "1\n",
      "0\n",
      "0\n",
      "1\n"
     ]
    }
   ],
   "source": [
    "n = int(input())\n",
    "arr = set(map(int,input().split()))\n",
    "m = int(input())\n",
    "target_list = list(map(int,input().split()))\n",
    "\n",
    "for target in target_list:\n",
    "    print(1) if target in arr else print(0)"
   ]
  },
  {
   "cell_type": "code",
   "execution_count": null,
   "metadata": {},
   "outputs": [],
   "source": []
  },
  {
   "cell_type": "code",
   "execution_count": null,
   "metadata": {},
   "outputs": [],
   "source": []
  },
  {
   "cell_type": "code",
   "execution_count": null,
   "metadata": {},
   "outputs": [],
   "source": []
  },
  {
   "cell_type": "code",
   "execution_count": null,
   "metadata": {},
   "outputs": [],
   "source": []
  }
 ],
 "metadata": {
  "kernelspec": {
   "display_name": "Python 3",
   "language": "python",
   "name": "python3"
  },
  "language_info": {
   "codemirror_mode": {
    "name": "ipython",
    "version": 3
   },
   "file_extension": ".py",
   "mimetype": "text/x-python",
   "name": "python",
   "nbconvert_exporter": "python",
   "pygments_lexer": "ipython3",
   "version": "3.8.5"
  }
 },
 "nbformat": 4,
 "nbformat_minor": 4
}
