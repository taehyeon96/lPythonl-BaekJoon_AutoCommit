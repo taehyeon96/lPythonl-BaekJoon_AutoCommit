{
 "cells": [
  {
   "cell_type": "markdown",
   "metadata": {},
   "source": [
    "## 맨 첨에 문제 접근 시 메모한 것\n",
    "\n",
    "* 천천히 생각하면서 메모하니 그냥 구현문제인 것 같은데\n",
    "\n",
    "* 일단 모든 기둥 폭(너비 = 1)\n",
    "* 창고에(=지붕에) 모든 기둥 포함되어야\n",
    "\n",
    "* 지붕은 모두 연결\n",
    "* 지붕 가장자리는 땅에 닿아야\n",
    "* 오목하게 들어간 부분( U 이런거 ) 없어야함\n",
    "\n",
    "* 한 개 기둥의 면적 = y좌표값\n",
    "* x축 ++ 하면서 \n",
    "  - answer += arr[1] 하는데 그 전에 \n",
    "  - if arr[1] = y좌표가 \"ny > y\"로 다음꺼가 더 클 때 answer += y의 y를 ny로 바꿈\n",
    "  - else 같거나 작으면 answer += y 의 y는 그대로\n",
    "  \n",
    "* 이때 plus해주는 값을 한번만 하는게 아니라"
   ]
  },
  {
   "cell_type": "code",
   "execution_count": 8,
   "metadata": {},
   "outputs": [
    {
     "name": "stdout",
     "output_type": "stream",
     "text": [
      "7\n",
      "2 4\n",
      "11 4\n",
      "15 8\n",
      "4 6\n",
      "5 3\n",
      "8 10\n",
      "13 6\n",
      "52\n"
     ]
    }
   ],
   "source": [
    "''' (정답아님!)내가 푼 - 근데 이 경우는 기둥들이 다 붙어있는 경우에만 가능한 답이네 '''\n",
    "\"\"\"                      그리고 그림 기준으로 x = 9부터는 이게 안됨 \"\"\"\n",
    "answer = 0\n",
    "n = int(input())\n",
    "graph = [list(map(int, input().split())) for _ in range(n)]   # (x, y)\n",
    "\n",
    "graph.sort()         # x좌표 기준 정렬\n",
    "\n",
    "plus = graph[0][1]\n",
    "\n",
    "for i in range(1, n):   # 이러면 x축 기준으로 하나씩 진행이니까\n",
    "    if plus >= graph[i][1]:   # 현재가 다음보다 크거나 같으면\n",
    "        answer += plus\n",
    "    elif plus < graph[i][1]:  # 이해를 위해 이렇게 작성\n",
    "        plus = graph[i][1]\n",
    "        answer += plus\n",
    "print(answer)"
   ]
  },
  {
   "cell_type": "markdown",
   "metadata": {},
   "source": [
    "하다보니 이 접근이 이상하다는걸 인지함\n",
    " - 힌트 찾아볼까 해서 검색해보니\n",
    " - \"스택\"을 사용하라더라\n"
   ]
  },
  {
   "cell_type": "code",
   "execution_count": 20,
   "metadata": {},
   "outputs": [
    {
     "name": "stdout",
     "output_type": "stream",
     "text": [
      "7\n",
      "2 4\n",
      "11 4\n",
      "15 8\n",
      "4 6\n",
      "5 3\n",
      "8 10\n",
      "13 6\n"
     ]
    }
   ],
   "source": [
    "''' 블로그 참고하여 수행 - 이 유형 핵심은 top을 기준으로 반반 나눠서 수행 '''\n",
    "answer = 0\n",
    "n = int(input())\n",
    "\n",
    "graph = [0] * 1001    # 문제에서 0<=x<=1000 이라 했으므로\n",
    "max_h = 0\n",
    "max_h_idx = 0\n",
    "end_idx = 0\n",
    "\n",
    "# 그림 모양의 n x n 배열 생성 (입력 받으면서 큰값 저장)\n",
    "for _ in range(n):\n",
    "    idx, h = map(int, input().split())   # (중요) 이때 x, y가 아니라 index, 높이 이다\n",
    "    graph[idx] = h                   # (중요) 해당 위치에 높이(=넓이) 저장\n",
    "    \n",
    "    # 높이 기준 가장 큰값 저장\n",
    "    if h > max_h:\n",
    "        max_h = h                # 가장 높은 애\n",
    "        max_h_idx = idx          # 걔의 인덱스(위치)\n",
    "    end_idx = max(end_idx, idx)  # 배열의 끝인 1000회까지 가지 않도록 마지막 위치 저장\n",
    "\n",
    "# 왼쪽 수행 - 내가 생각한 방식은 여기서 통함\n",
    "plus = graph[0]\n",
    "for idx in range(1, max_h_idx+1):    # 이러면 x축 기준으로 하나씩 진행이니까\n",
    "    if plus < graph[idx]:          # next 위치의 높이가 더 큰 값이면 대체\n",
    "        plus = graph[idx]          # 왼쪽으로 갈 땐, 다음 위치 높이가 0 이어도 상관없다\n",
    "    answer += plus\n",
    "\n",
    "# 오른쪽 수행 - 위 내용을 거꾸로!!!!!!!! (중요)\n",
    "plus = graph[end_idx]\n",
    "for idx in range(end_idx, max_h_idx, -1):    # 이러면 x축 기준으로 하나씩 진행이니까\n",
    "    if plus < graph[idx]:          # next 위치의 높이가 더 큰 값이면 대체\n",
    "        plus = graph[idx]          # 왼쪽으로 갈 땐, 다음 위치 높이가 0 이어도 상관없다\n",
    "    answer += plus\n",
    "    \n",
    "print(answer)"
   ]
  },
  {
   "attachments": {
    "image.png": {
     "image/png": "[encoded data removed]"
    }
   },
   "cell_type": "markdown",
   "metadata": {},
   "source": [
    "![image.png](attachment:image.png)"
   ]
  },
  {
   "cell_type": "code",
   "execution_count": 17,
   "metadata": {},
   "outputs": [
    {
     "name": "stdout",
     "output_type": "stream",
     "text": [
      "[[2, 4], [4, 6], [5, 3], [8, 10], [11, 4], [13, 6], [15, 8]]\n"
     ]
    }
   ],
   "source": [
    "graph = [[2, 4], [4, 6], [5, 3], [8, 10], [11, 4], [13, 6], [15, 8]]\n",
    "\n",
    "graph[:][1].sort()         # x좌표 기준 정렬\n",
    "print(graph)"
   ]
  },
  {
   "cell_type": "code",
   "execution_count": 21,
   "metadata": {},
   "outputs": [
    {
     "data": {
      "text/plain": [
       "98"
      ]
     },
     "execution_count": 21,
     "metadata": {},
     "output_type": "execute_result"
    }
   ],
   "source": [
    "answer"
   ]
  },
  {
   "cell_type": "code",
   "execution_count": null,
   "metadata": {},
   "outputs": [],
   "source": [
    "'''   \n",
    "# 내가 생각한 방법은 여기서 먹힘 -> 단, stack으로 진행\n",
    "stack = []\n",
    "for idx in range(max_h_idx):       # 가장 높은 애 위치까지 1차 진행\n",
    "    stack.append(graph[idx])\n",
    "    \n",
    "    if stack[-1] < graph[idx+1]:\n",
    "        stack.append(graph[idx+1])\n",
    "    answer += stack[-1]\n",
    "'''\n"
   ]
  },
  {
   "cell_type": "code",
   "execution_count": null,
   "metadata": {},
   "outputs": [],
   "source": []
  }
 ],
 "metadata": {
  "kernelspec": {
   "display_name": "Python 3",
   "language": "python",
   "name": "python3"
  },
  "language_info": {
   "codemirror_mode": {
    "name": "ipython",
    "version": 3
   },
   "file_extension": ".py",
   "mimetype": "text/x-python",
   "name": "python",
   "nbconvert_exporter": "python",
   "pygments_lexer": "ipython3",
   "version": "3.8.5"
  }
 },
 "nbformat": 4,
 "nbformat_minor": 4
}
