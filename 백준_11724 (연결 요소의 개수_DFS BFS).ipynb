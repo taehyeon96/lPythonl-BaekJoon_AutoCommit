{
 "cells": [
  {
   "cell_type": "markdown",
   "metadata": {},
   "source": [
    "여태까지 계속 했던 문제유형인가? DFS\n",
    "\n",
    "* 바로 전 문제와 차이점이 없는거 같긴 한데,\n",
    "* 그나마 차이점이라 하면 n x m 행렬이 아니고 그래프의 행렬인 n x n행렬로 Basic한 DFS 탐색 문제인듯\n"
   ]
  },
  {
   "cell_type": "code",
   "execution_count": 9,
   "metadata": {},
   "outputs": [
    {
     "name": "stdout",
     "output_type": "stream",
     "text": [
      "6 8\n",
      "1 2\n",
      "2 5\n",
      "5 1\n",
      "3 4\n",
      "4 6\n",
      "5 4\n",
      "2 4\n",
      "2 3\n",
      "1\n"
     ]
    }
   ],
   "source": [
    "''' 내가 푼 - recursion error와 시간초과 주의! '''\n",
    "import sys\n",
    "sys.setrecursionlimit(10**5)\n",
    "\n",
    "def dfs(n, i, graph, visit):\n",
    "    visit[i] = True\n",
    "    \n",
    "    for j in graph[i]:\n",
    "        if not visit[j]:\n",
    "            dfs(n, j, graph, visit)\n",
    "\n",
    "n, m = map(int, sys.stdin.readline().split())\n",
    "\n",
    "# 그래프 만들기(이웃노드 리스트 만들기) -> edge로 n x n 형태의 행렬 만든다\n",
    "graph = [[] for _ in range(n+1)]  # 그래프 노드는 1부터 시작이다!!!!!!\n",
    "for _ in range(m):\n",
    "    a, b = map(int, sys.stdin.readline().split())\n",
    "    graph[a].append(b)\n",
    "    graph[b].append(a)\n",
    "\n",
    "visit = [False] * (n+1)          # 그래프 노드는 1부터 시작이다!!!!\n",
    "cnt = 0\n",
    "\n",
    "for i in range(1, n+1):          # 그래프 노드는 1부터 시작이다!!!(여기가 젤 중요)\n",
    "    if not visit[i]:\n",
    "        dfs(n, i, graph, visit)\n",
    "        cnt += 1                 # DFS 1회 순회 후 +1 (이 문제의 핵심)\n",
    "print(cnt)\n",
    "    "
   ]
  },
  {
   "cell_type": "code",
   "execution_count": 6,
   "metadata": {},
   "outputs": [
    {
     "data": {
      "text/plain": [
       "[[], [2, 5], [1, 5], [4], [3, 6], [2, 1], [4]]"
      ]
     },
     "execution_count": 6,
     "metadata": {},
     "output_type": "execute_result"
    }
   ],
   "source": [
    "graph"
   ]
  },
  {
   "cell_type": "code",
   "execution_count": null,
   "metadata": {},
   "outputs": [],
   "source": []
  },
  {
   "cell_type": "code",
   "execution_count": null,
   "metadata": {},
   "outputs": [],
   "source": []
  },
  {
   "cell_type": "code",
   "execution_count": null,
   "metadata": {},
   "outputs": [],
   "source": []
  }
 ],
 "metadata": {
  "kernelspec": {
   "display_name": "Python 3",
   "language": "python",
   "name": "python3"
  },
  "language_info": {
   "codemirror_mode": {
    "name": "ipython",
    "version": 3
   },
   "file_extension": ".py",
   "mimetype": "text/x-python",
   "name": "python",
   "nbconvert_exporter": "python",
   "pygments_lexer": "ipython3",
   "version": "3.8.5"
  }
 },
 "nbformat": 4,
 "nbformat_minor": 4
}
