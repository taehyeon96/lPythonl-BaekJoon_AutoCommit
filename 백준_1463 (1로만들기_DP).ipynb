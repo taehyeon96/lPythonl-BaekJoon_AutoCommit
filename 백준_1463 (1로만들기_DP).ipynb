{
 "cells": [
  {
   "cell_type": "markdown",
   "metadata": {},
   "source": [
    "# 메모\n",
    "\n",
    "\n",
    "* DP 뼈대문제\n",
    "    - 얼핏 보면 그리디와 비슷할 수 있지만, 시간제한을 보면 속도를 단축시켜야함\n",
    "    \n",
    "* 생각해보면 BFS랑 비슷하지 않나? 메모이제이션\n",
    "\n",
    "* 1차원 배열 BFS처럼 진행하고, \n",
    "    - 이미 계산한 값이면 바로 리턴, \n",
    "    - 가장먼저 그 값에 도달하면 바로 리턴\n",
    "    이렇게?\n",
    "    "
   ]
  },
  {
   "cell_type": "code",
   "execution_count": null,
   "metadata": {},
   "outputs": [],
   "source": []
  },
  {
   "cell_type": "code",
   "execution_count": 12,
   "metadata": {},
   "outputs": [
    {
     "name": "stdout",
     "output_type": "stream",
     "text": [
      "10\n",
      "deque([])    10\n",
      "deque([9])    5\n",
      "deque([4])    9\n",
      "deque([3, 8])    4\n",
      "deque([8, 2, 3])    3\n",
      "deque([2, 3, 1, 2])    8\n",
      "deque([3, 1, 2, 4, 7])    2\n",
      "deque([1, 2, 4, 7, 1, 1])    3\n",
      "deque([2, 4, 7, 1, 1, 1, 2])    1\n",
      "3\n",
      "[0, 4, 3, 2, 2, 1, 0, 1, 1, 1, 1]\n"
     ]
    }
   ],
   "source": [
    "from collections import deque\n",
    "\n",
    "def dp(n, memo):\n",
    "    que = deque()\n",
    "    que.append(n)\n",
    "    \n",
    "    memo[n] += 1\n",
    "    \n",
    "    while que:\n",
    "        x = que.popleft()\n",
    "        \n",
    "        print(que, '  ', x)\n",
    "        \n",
    "        if x == 1:\n",
    "            print(memo[1]-1)\n",
    "            break\n",
    "        \n",
    "        if x < 0:\n",
    "            break\n",
    "            \n",
    "        \n",
    "        dx = [3, 2, 1]\n",
    "        \n",
    "        for i in dx:\n",
    "            #if memo[nx]:\n",
    "                #return memo[nx]\n",
    "            \n",
    "            if i > 1 and (x % i) == 0:  # x가 0으로 나누어 떨어지면\n",
    "                memo[x//i] += 1\n",
    "                que.append(x//i)\n",
    "            elif i == 1:\n",
    "                memo[x-1] += 1\n",
    "                que.append(x-1)\n",
    "        \n",
    "        \n",
    "    \n",
    "\n",
    "n = int(input())\n",
    "memo = [0 for _ in range(n+1)]\n",
    "\n",
    "dp(n, memo)\n",
    "print(memo)"
   ]
  },
  {
   "cell_type": "code",
   "execution_count": 6,
   "metadata": {},
   "outputs": [
    {
     "data": {
      "text/plain": [
       "[0, 2, 2]"
      ]
     },
     "execution_count": 6,
     "metadata": {},
     "output_type": "execute_result"
    }
   ],
   "source": [
    "memo"
   ]
  },
  {
   "cell_type": "code",
   "execution_count": 18,
   "metadata": {},
   "outputs": [
    {
     "name": "stdout",
     "output_type": "stream",
     "text": [
      "26\n",
      "1\n",
      "2\n",
      "2\n",
      "3\n",
      "2\n",
      "3\n",
      "4\n",
      "4\n",
      "3\n",
      "3\n",
      "4\n",
      "4\n",
      "5\n",
      "5\n",
      "3\n",
      "4\n",
      "5\n",
      "4\n",
      "5\n",
      "4\n",
      "5\n",
      "5\n",
      "6\n",
      "5\n",
      "3\n",
      "3\n"
     ]
    }
   ],
   "source": [
    "x = int(input())\n",
    "\n",
    "# 작은 문제부터 해결해서 저장할 dp테이블\n",
    "dp = [0]*30001\n",
    "\n",
    "# 다이나믹 프로그래밍(bottom up)\n",
    "for i in range(2, x+1):\n",
    "    ## 연산이 가능한 모든 경우를 수행해보고 가장 작은값을 가져간다.\n",
    "\n",
    "    # d연산\n",
    "    dp[i] = dp[i-1]+1\n",
    "    print(dp[i])\n",
    "\n",
    "    # a연산이 가능한 경우\n",
    "    if i%5 ==0:\n",
    "        dp[i] = min(dp[i], dp[i//5]+1)\n",
    "    # b연산이 가능한 경우\n",
    "    if i%3==0:\n",
    "        dp[i] = min(dp[i], dp[i//3]+1)\n",
    "    # c연산이 가능한 경우\n",
    "    if i%2==0:\n",
    "        dp[i] = min(dp[i], dp[i//2]+1)\n",
    "\n",
    "print(dp[x])"
   ]
  },
  {
   "cell_type": "code",
   "execution_count": 17,
   "metadata": {},
   "outputs": [
    {
     "data": {
      "text/plain": [
       "[0,\n",
       " 0,\n",
       " 1,\n",
       " 1,\n",
       " 2,\n",
       " 1,\n",
       " 2,\n",
       " 3,\n",
       " 3,\n",
       " 2,\n",
       " 2,\n",
       " 3,\n",
       " 3,\n",
       " 4,\n",
       " 4,\n",
       " 2,\n",
       " 3,\n",
       " 4,\n",
       " 3,\n",
       " 4,\n",
       " 3,\n",
       " 4,\n",
       " 4,\n",
       " 5,\n",
       " 4,\n",
       " 2,\n",
       " 3,\n",
       " 0,\n",
       " 0,\n",
       " 0]"
      ]
     },
     "execution_count": 17,
     "metadata": {},
     "output_type": "execute_result"
    }
   ],
   "source": [
    "dp[:30]"
   ]
  },
  {
   "cell_type": "code",
   "execution_count": null,
   "metadata": {},
   "outputs": [],
   "source": []
  }
 ],
 "metadata": {
  "kernelspec": {
   "display_name": "Python 3",
   "language": "python",
   "name": "python3"
  },
  "language_info": {
   "codemirror_mode": {
    "name": "ipython",
    "version": 3
   },
   "file_extension": ".py",
   "mimetype": "text/x-python",
   "name": "python",
   "nbconvert_exporter": "python",
   "pygments_lexer": "ipython3",
   "version": "3.8.5"
  }
 },
 "nbformat": 4,
 "nbformat_minor": 4
}
