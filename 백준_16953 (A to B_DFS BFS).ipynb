{
 "cells": [
  {
   "cell_type": "code",
   "execution_count": null,
   "metadata": {},
   "outputs": [],
   "source": []
  },
  {
   "cell_type": "markdown",
   "metadata": {},
   "source": [
    "## 메모한 것\n",
    "\n",
    "* 이거 BFS - 최단경로???\n",
    "\n",
    "* 가능한 연산\n",
    "  - A * 2\n",
    "  - str(A) + '1'\n",
    "  \n",
    "* 출력물 : A를 B로 만드는 최소 연산 횟수 + 1\n",
    "* 만들 수 없으면 -1\n",
    "\n",
    "* 이거 어떤 비슷한 유형 있던거같은데 백준에 얼마전에 풀어본거중에\n",
    "\n",
    "* 아 근데 횟수니까 [[0] * 100] 이런거 하나 만들어놓고\n",
    "* 연산한 값이 index가 되는거고(이게 중요), 연산한 값을 방문할 때마다 += 1해주면서 \n",
    "* 최소 수니까 이동중에(= if index == B)가 되면 바로 print()하고 exit(0) 하면 될듯?"
   ]
  },
  {
   "cell_type": "code",
   "execution_count": 8,
   "metadata": {},
   "outputs": [
    {
     "name": "stdout",
     "output_type": "stream",
     "text": [
      "100 40021\n",
      "5\n"
     ]
    }
   ],
   "source": [
    "''' 내가 푼 - 1차원 벡터의 BFS 최단거리 유형인듯 '''\n",
    "from collections import deque\n",
    "\n",
    "def bfs(a, b, visit):\n",
    "    que = deque([a])\n",
    "    visit[a] = 1\n",
    "    \n",
    "    while que:\n",
    "        now = que.popleft()\n",
    "            \n",
    "        # bfs 이므로 두 가지 케이스 다 수행하여 queue에 push\n",
    "        if now * 2 <= b: \n",
    "            after1 = now * 2\n",
    "            visit[after1] = visit[now] + 1\n",
    "            que.append(after1)\n",
    "            if after1 == b:\n",
    "                return visit[after1]\n",
    "            \n",
    "        if int(str(now) + '1') <= b:\n",
    "            after2 = int(str(now) + '1')\n",
    "            visit[after2] = visit[now] + 1\n",
    "            que.append(after2)\n",
    "            if after2 == b:\n",
    "                return visit[after2]\n",
    "\n",
    "a, b = map(int, input().split())\n",
    "visit = [0] * (b + 1)                     # 인덱스 0부터 시작이므로\n",
    "\n",
    "answer = bfs(a, b, visit)\n",
    "print(answer) if answer else -1"
   ]
  },
  {
   "attachments": {
    "image.png": {
     "image/png": "[encoded data removed]"
    }
   },
   "cell_type": "markdown",
   "metadata": {},
   "source": [
    "![image.png](attachment:image.png)"
   ]
  },
  {
   "cell_type": "code",
   "execution_count": 14,
   "metadata": {},
   "outputs": [
    {
     "name": "stdout",
     "output_type": "stream",
     "text": [
      "2 162\n",
      "5\n"
     ]
    }
   ],
   "source": [
    "''' 블로그 해답 1 - BFS 활용 '''\n",
    "\n",
    "from collections import deque\n",
    "\n",
    "a, b = map(int, input().split())\n",
    "que = deque()\n",
    "que.append((a, 0))              # (중요) 시작값과 count 횟수를 묶어서 넣어준다\n",
    "\n",
    "while que:\n",
    "    now, cnt = que.popleft()\n",
    "    \n",
    "    if b < now:                # now가 초과할 경우\n",
    "        continue\n",
    "    if b == now:               # 처음으로 찾는 순간에 바로 끝\n",
    "        print(cnt+1)           # +1 더한값을 출력하라 함\n",
    "        break\n",
    "        \n",
    "    # bfs니까 둘 다 넣어줌\n",
    "    que.append((now * 2, cnt + 1))\n",
    "    que.append((int(str(now) + '1'), cnt + 1))\n",
    "    \n",
    "else:\n",
    "    print(-1)                 # (매우 중요) 무한루프 빠져나오는 방법 : while-else 문"
   ]
  },
  {
   "cell_type": "code",
   "execution_count": null,
   "metadata": {},
   "outputs": [],
   "source": []
  },
  {
   "cell_type": "code",
   "execution_count": 5,
   "metadata": {},
   "outputs": [
    {
     "data": {
      "text/plain": [
       "11"
      ]
     },
     "execution_count": 5,
     "metadata": {},
     "output_type": "execute_result"
    }
   ],
   "source": [
    "visit = [0] * (10 + 1)\n",
    "len(visit)"
   ]
  },
  {
   "cell_type": "code",
   "execution_count": 2,
   "metadata": {},
   "outputs": [
    {
     "name": "stdout",
     "output_type": "stream",
     "text": [
      "2 165\n"
     ]
    }
   ],
   "source": [
    "a, b = map(int, input().split())"
   ]
  },
  {
   "cell_type": "code",
   "execution_count": null,
   "metadata": {},
   "outputs": [],
   "source": []
  },
  {
   "cell_type": "code",
   "execution_count": 4,
   "metadata": {},
   "outputs": [
    {
     "name": "stdout",
     "output_type": "stream",
     "text": [
      "3341\n"
     ]
    }
   ],
   "source": [
    "a = '334'\n",
    "print(a+'1')"
   ]
  },
  {
   "cell_type": "code",
   "execution_count": null,
   "metadata": {},
   "outputs": [],
   "source": []
  },
  {
   "cell_type": "markdown",
   "metadata": {},
   "source": [
    "---\n",
    "# 다시 풀어보자\n",
    "\n",
    "* BFS로 접근해본다\n",
    "* 1차원 배열이다"
   ]
  },
  {
   "cell_type": "code",
   "execution_count": 46,
   "metadata": {
    "collapsed": true
   },
   "outputs": [
    {
     "name": "stdout",
     "output_type": "stream",
     "text": [
      "2 162\n",
      "2    2    1\n",
      "\n",
      "x =  2   que =  deque([])  --------------------------------\n",
      "nx =  4    4    2\n",
      "nx =  21    21    3\n",
      "\n",
      "x =  4   que =  deque([21])  --------------------------------\n",
      "nx =  8    8    4\n",
      "nx =  41    41    5\n",
      "\n",
      "x =  21   que =  deque([8, 41])  --------------------------------\n",
      "nx =  42    42    6\n",
      "\n",
      "x =  8   que =  deque([41, 42])  --------------------------------\n",
      "nx =  16    16    7\n",
      "nx =  81    81    8\n",
      "\n",
      "x =  41   que =  deque([42, 16, 81])  --------------------------------\n",
      "nx =  82    82    9\n",
      "\n",
      "x =  42   que =  deque([16, 81, 82])  --------------------------------\n",
      "nx =  84    84    10\n",
      "\n",
      "x =  16   que =  deque([81, 82, 84])  --------------------------------\n",
      "nx =  32    32    11\n",
      "nx =  161    161    12\n",
      "\n",
      "x =  81   que =  deque([82, 84, 32, 161])  --------------------------------\n",
      "nx =  162    162    13\n",
      "\n",
      "x =  82   que =  deque([84, 32, 161, 162])  --------------------------------\n",
      "\n",
      "x =  84   que =  deque([32, 161, 162])  --------------------------------\n",
      "\n",
      "x =  32   que =  deque([161, 162])  --------------------------------\n",
      "nx =  64    64    14\n",
      "\n",
      "x =  161   que =  deque([162, 64])  --------------------------------\n",
      "\n",
      "x =  162   que =  deque([64])  --------------------------------\n",
      "14\n"
     ]
    }
   ],
   "source": [
    "from collections import deque\n",
    "\n",
    "a, b = map(int,input().split())\n",
    "check = [[0,0]] * (b+1)\n",
    "check[a][0] = a\n",
    "check[a][1] = 1\n",
    "que = deque()\n",
    "que.append(a)\n",
    "answer = 0\n",
    "\n",
    "print(a, \"  \", check[a][0], \"  \", check[a][1])\n",
    "# BFS\n",
    "while que:\n",
    "    x = que.popleft()\n",
    "    print(\"\\nx = \", x, \"  que = \", que, \" --------------------------------\")\n",
    "\n",
    "    if x == b:\n",
    "        answer = check[x][1]\n",
    "        break\n",
    "    \n",
    "    for nx in [x*2, int(str(x)+str(1))]:  \n",
    "        '''\n",
    "        if nx == b:\n",
    "            answer = check[nx][1]\n",
    "            que.clear()\n",
    "            break\n",
    "        '''      \n",
    "        if 0 <= nx < b+1:\n",
    "            check[nx][0] = nx\n",
    "            check[nx][1] = check[x][1] + 1\n",
    "            #print(\"x = \", x, \"  \", check[x][0], \"  \", check[x][1])\n",
    "            print(\"nx = \", nx, \"  \", check[nx][0], \"  \", check[nx][1])\n",
    "            que.append(nx)\n",
    "                \n",
    "    \n",
    "print(answer)\n",
    "    "
   ]
  },
  {
   "cell_type": "code",
   "execution_count": 34,
   "metadata": {
    "collapsed": true
   },
   "outputs": [
    {
     "data": {
      "text/plain": [
       "[[161, 12],\n",
       " [161, 12],\n",
       " [161, 12],\n",
       " [161, 12],\n",
       " [161, 12],\n",
       " [161, 12],\n",
       " [161, 12],\n",
       " [161, 12],\n",
       " [161, 12],\n",
       " [161, 12],\n",
       " [161, 12],\n",
       " [161, 12],\n",
       " [161, 12],\n",
       " [161, 12],\n",
       " [161, 12],\n",
       " [161, 12],\n",
       " [161, 12],\n",
       " [161, 12],\n",
       " [161, 12],\n",
       " [161, 12],\n",
       " [161, 12],\n",
       " [161, 12],\n",
       " [161, 12],\n",
       " [161, 12],\n",
       " [161, 12],\n",
       " [161, 12],\n",
       " [161, 12],\n",
       " [161, 12],\n",
       " [161, 12],\n",
       " [161, 12],\n",
       " [161, 12],\n",
       " [161, 12],\n",
       " [161, 12],\n",
       " [161, 12],\n",
       " [161, 12],\n",
       " [161, 12],\n",
       " [161, 12],\n",
       " [161, 12],\n",
       " [161, 12],\n",
       " [161, 12],\n",
       " [161, 12],\n",
       " [161, 12],\n",
       " [161, 12],\n",
       " [161, 12],\n",
       " [161, 12],\n",
       " [161, 12],\n",
       " [161, 12],\n",
       " [161, 12],\n",
       " [161, 12],\n",
       " [161, 12],\n",
       " [161, 12],\n",
       " [161, 12],\n",
       " [161, 12],\n",
       " [161, 12],\n",
       " [161, 12],\n",
       " [161, 12],\n",
       " [161, 12],\n",
       " [161, 12],\n",
       " [161, 12],\n",
       " [161, 12],\n",
       " [161, 12],\n",
       " [161, 12],\n",
       " [161, 12],\n",
       " [161, 12],\n",
       " [161, 12],\n",
       " [161, 12],\n",
       " [161, 12],\n",
       " [161, 12],\n",
       " [161, 12],\n",
       " [161, 12],\n",
       " [161, 12],\n",
       " [161, 12],\n",
       " [161, 12],\n",
       " [161, 12],\n",
       " [161, 12],\n",
       " [161, 12],\n",
       " [161, 12],\n",
       " [161, 12],\n",
       " [161, 12],\n",
       " [161, 12],\n",
       " [161, 12],\n",
       " [161, 12],\n",
       " [161, 12],\n",
       " [161, 12],\n",
       " [161, 12],\n",
       " [161, 12],\n",
       " [161, 12],\n",
       " [161, 12],\n",
       " [161, 12],\n",
       " [161, 12],\n",
       " [161, 12],\n",
       " [161, 12],\n",
       " [161, 12],\n",
       " [161, 12],\n",
       " [161, 12],\n",
       " [161, 12],\n",
       " [161, 12],\n",
       " [161, 12],\n",
       " [161, 12],\n",
       " [161, 12],\n",
       " [161, 12],\n",
       " [161, 12],\n",
       " [161, 12],\n",
       " [161, 12],\n",
       " [161, 12],\n",
       " [161, 12],\n",
       " [161, 12],\n",
       " [161, 12],\n",
       " [161, 12],\n",
       " [161, 12],\n",
       " [161, 12],\n",
       " [161, 12],\n",
       " [161, 12],\n",
       " [161, 12],\n",
       " [161, 12],\n",
       " [161, 12],\n",
       " [161, 12],\n",
       " [161, 12],\n",
       " [161, 12],\n",
       " [161, 12],\n",
       " [161, 12],\n",
       " [161, 12],\n",
       " [161, 12],\n",
       " [161, 12],\n",
       " [161, 12],\n",
       " [161, 12],\n",
       " [161, 12],\n",
       " [161, 12],\n",
       " [161, 12],\n",
       " [161, 12],\n",
       " [161, 12],\n",
       " [161, 12],\n",
       " [161, 12],\n",
       " [161, 12],\n",
       " [161, 12],\n",
       " [161, 12],\n",
       " [161, 12],\n",
       " [161, 12],\n",
       " [161, 12],\n",
       " [161, 12],\n",
       " [161, 12],\n",
       " [161, 12],\n",
       " [161, 12],\n",
       " [161, 12],\n",
       " [161, 12],\n",
       " [161, 12],\n",
       " [161, 12],\n",
       " [161, 12],\n",
       " [161, 12],\n",
       " [161, 12],\n",
       " [161, 12],\n",
       " [161, 12],\n",
       " [161, 12],\n",
       " [161, 12],\n",
       " [161, 12],\n",
       " [161, 12],\n",
       " [161, 12],\n",
       " [161, 12],\n",
       " [161, 12],\n",
       " [161, 12],\n",
       " [161, 12],\n",
       " [161, 12],\n",
       " [161, 12]]"
      ]
     },
     "execution_count": 34,
     "metadata": {},
     "output_type": "execute_result"
    }
   ],
   "source": [
    "check"
   ]
  },
  {
   "cell_type": "code",
   "execution_count": null,
   "metadata": {},
   "outputs": [],
   "source": []
  },
  {
   "cell_type": "code",
   "execution_count": 66,
   "metadata": {},
   "outputs": [
    {
     "name": "stdout",
     "output_type": "stream",
     "text": [
      "2 162\n",
      "5\n"
     ]
    }
   ],
   "source": [
    "from collections import deque\n",
    "\n",
    "a, b = map(int,input().split())\n",
    "que = deque()                   # (중요) \"괄호\"로 넣어줘야한다!!!\n",
    "que.append((a, 0))              # (중요) 시작값과 count 횟수를 묶어서 넣어준다\n",
    "ans = 0\n",
    "\n",
    "while que:\n",
    "    x, cnt = que.popleft()\n",
    "    \n",
    "    if x == b:\n",
    "        ans = cnt\n",
    "        break\n",
    "        \n",
    "    for nx in [x*2, int(str(x)+'1')]:\n",
    "        if 0 <= nx <= b:            \n",
    "            que.append((nx, cnt+1))\n",
    "        \n",
    "print(ans+1) if ans > 0 else print(-1)"
   ]
  },
  {
   "cell_type": "code",
   "execution_count": null,
   "metadata": {},
   "outputs": [],
   "source": []
  },
  {
   "cell_type": "code",
   "execution_count": null,
   "metadata": {},
   "outputs": [],
   "source": []
  },
  {
   "cell_type": "code",
   "execution_count": null,
   "metadata": {},
   "outputs": [],
   "source": []
  },
  {
   "cell_type": "code",
   "execution_count": null,
   "metadata": {},
   "outputs": [],
   "source": []
  },
  {
   "cell_type": "code",
   "execution_count": null,
   "metadata": {},
   "outputs": [],
   "source": []
  }
 ],
 "metadata": {
  "kernelspec": {
   "display_name": "Python 3",
   "language": "python",
   "name": "python3"
  },
  "language_info": {
   "codemirror_mode": {
    "name": "ipython",
    "version": 3
   },
   "file_extension": ".py",
   "mimetype": "text/x-python",
   "name": "python",
   "nbconvert_exporter": "python",
   "pygments_lexer": "ipython3",
   "version": "3.8.5"
  }
 },
 "nbformat": 4,
 "nbformat_minor": 4
}
