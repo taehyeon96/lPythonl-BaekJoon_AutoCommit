{
 "cells": [
  {
   "cell_type": "markdown",
   "metadata": {},
   "source": [
    "# 메모\n",
    "\n",
    "* k개 랜선에서 각각 잘라야함 (두 개 랜선을 붙일 수 없음)\n",
    "\n",
    "* 이때 각각 자른것들의 개수의 합이 N이 되어야함\n",
    "  - 그리고 N개는 전부 길이가 동일해야 함\n",
    "  \n",
    "* 자를 때 정수로만 잘라야. (203.11이런게 남으면 안됨)\n",
    "\n",
    "* 일단 sort하고,\n",
    "\n",
    "* 주어진 랜선 중 가장 작은값을 기준으로 뭔가 하면 될거같은데\n",
    "  - 랜선 중 가장 작은값 하나 잡아서 A라고 할 때,\n",
    "  - while돌리면서 A의 중간값을 target으로 설정 -> 이 target으로 다른 랜선들 잘라보고\n",
    "  - if num < k 이면 나와서 A의 중간값의 중간값을 다시 target으로 설정 -> 반복\n",
    "  \n",
    "  - 이때 **int(pivot계산한거) = target** 으로 해야함!!(정수!!)\n",
    "  \n",
    "  - min으로 다른 랜선들을 자른값(나눠기의 몫값 = 개수니까) 얘를 ans += 해주면 되지 않을까\n",
    "  - 그래서 ans < N이면 다시 돌리고, == 면 끝?\n",
    "  \n",
    "* 이진탐색은 어케되는겨\n",
    "\n",
    "---\n",
    "\n",
    "* 이진탐색 쓰는 이유 (중요)\n",
    "  - 내가 생각한 방식에서, 랜선 중 가장 작은 애를 기준으로 자르면\n",
    "  - -1씩 해가면서 브루트폴스 하면서 길이를 재봤어야함!\n",
    "  \n",
    "  - 그러나 이진탐색 수행하면, -1씩 안하고 큼직큼직 절반씩 잘라나가서\n",
    "  - 시간과 연산량을 매우 매우 단축시킬 수 있음!"
   ]
  },
  {
   "attachments": {
    "image-2.png": {
     "image/png": "[encoded data removed]"
    }
   },
   "cell_type": "markdown",
   "metadata": {},
   "source": [
    "![image-2.png](attachment:image-2.png)"
   ]
  },
  {
   "cell_type": "code",
   "execution_count": 27,
   "metadata": {},
   "outputs": [
    {
     "name": "stdout",
     "output_type": "stream",
     "text": [
      "4 11\n",
      "229 9\n",
      "------------------------------\n",
      "114 21\n",
      "------------------------------\n",
      "171 13\n",
      "------------------------------\n",
      "200 11\n"
     ]
    }
   ],
   "source": [
    "''' 내가푼 - 문제에서 테케는 맞췄는데, 추가 테케를 고쳐봐야함 '''\n",
    "def make_target(start,end):\n",
    "    return (start+end) // 2\n",
    "\n",
    "k, n = map(int,input().split())\n",
    "#arr = [int(input()) for i in range(k)]\n",
    "arr = [802, 743, 457, 539]\n",
    "#arr = [2,1,2,1]\n",
    "\n",
    "start = 1\n",
    "end = min_num\n",
    "num_of_rans = 0\n",
    "\n",
    "min_num = min(arr)\n",
    "\n",
    "if min_num == 1: target = 1\n",
    "else: target = make_target(start,end)\n",
    "\n",
    "while 1:\n",
    "    for card in arr:\n",
    "        num_of_rans = num_of_rans + int(card // target)\n",
    "\n",
    "    # 개수가 부족 = target(pivot)을 더 줄여서 개수를 늘려줘야함\n",
    "    if num_of_rans < n:\n",
    "        print(target,num_of_rans)\n",
    "        end = target-1        \n",
    "        target = make_target(start,end)\n",
    "        \n",
    "    # 개수가 많다 = target(pivot)을 키워서 개수 줄여야함\n",
    "    elif num_of_rans > n:\n",
    "        print(target,num_of_rans)\n",
    "        start = target+1        \n",
    "        target = make_target(start, end)\n",
    "\n",
    "    # 찾았다!\n",
    "    else:\n",
    "        break\n",
    "        \n",
    "    num_of_rans = 0   # 초기화는 필수\n",
    "    print(\"------------------------------\")\n",
    "    \n",
    "print(target,num_of_rans)"
   ]
  },
  {
   "cell_type": "code",
   "execution_count": 45,
   "metadata": {},
   "outputs": [
    {
     "name": "stdout",
     "output_type": "stream",
     "text": [
      "2 3\n",
      "3\n",
      "2\n",
      "1 5\n",
      "------------------------------\n",
      "2 2\n",
      "------------------------------\n",
      "1 5\n",
      "1\n"
     ]
    }
   ],
   "source": [
    "''' 내가푼 - 추가테케 고려한 풀이 '''\n",
    "def make_target(start,end):\n",
    "    return (start+end) // 2\n",
    "\n",
    "def bin_search(target, start, end):\n",
    "    num_of_rans = 0\n",
    "    while 1:\n",
    "        for card in arr:\n",
    "            num_of_rans = num_of_rans + int(card // target)\n",
    "\n",
    "        # 개수가 부족 = target(pivot)을 더 줄여서 개수를 늘려줘야함\n",
    "        if num_of_rans < n:\n",
    "            print(target,num_of_rans)\n",
    "            tmp = target\n",
    "            end = target-1        \n",
    "            target = make_target(start,end)\n",
    "            if tmp == target:\n",
    "                print(target)\n",
    "                break\n",
    "\n",
    "        # 개수가 많다 = target(pivot)을 키워서 개수 줄여야함\n",
    "        elif num_of_rans > n:\n",
    "            print(target,num_of_rans)\n",
    "            tmp = target\n",
    "            start = target+1        \n",
    "            target = make_target(start, end)\n",
    "            if tmp == target:\n",
    "                print(target)\n",
    "                break\n",
    "\n",
    "        # 찾았다!\n",
    "        else:\n",
    "            print(target)\n",
    "            break\n",
    "\n",
    "        num_of_rans = 0   # 초기화는 필수\n",
    "        print(\"------------------------------\")\n",
    "    \n",
    "k, n = map(int,input().split())\n",
    "arr = [int(input()) for i in range(k)]\n",
    "\n",
    "min_num = min(arr)\n",
    "start = 1\n",
    "end = min_num\n",
    "\n",
    "if min_num == 1: \n",
    "    print(1)           # 가장 작은게 1이면 그 이상의 길이로는 자를 수 없음\n",
    "elif k == 1:          # 랜선이 하나뿐이면 자를 수 있는 최소길이=최대길이\n",
    "    print(arr[0])\n",
    "else: \n",
    "    target = make_target(start,end)\n",
    "    bin_search(target, start, end)\n"
   ]
  },
  {
   "cell_type": "code",
   "execution_count": 56,
   "metadata": {},
   "outputs": [
    {
     "name": "stdout",
     "output_type": "stream",
     "text": [
      "3 6\n",
      "40\n",
      "20\n",
      "10\n",
      "10\n"
     ]
    }
   ],
   "source": [
    "''' 내가푼 - 제출답안 - 근데 틀렸대,, '''\n",
    "def make_target(start,end):\n",
    "    return (start+end) // 2\n",
    "\n",
    "def bin_search(target, start, end):\n",
    "    num_of_rans = 0\n",
    "    while 1:\n",
    "        for card in arr:\n",
    "            num_of_rans = num_of_rans + int(card // target)\n",
    "\n",
    "        # 개수가 부족 = target(pivot)을 더 줄여서 개수를 늘려줘야함\n",
    "        if num_of_rans < n:\n",
    "            tmp = target\n",
    "            end = target-1        \n",
    "            target = make_target(start,end)\n",
    "            if tmp == target:\n",
    "                print(target)\n",
    "                break\n",
    "\n",
    "        # 개수가 많다 = target(pivot)을 키워서 개수 줄여야함\n",
    "        elif num_of_rans > n:\n",
    "            tmp = target\n",
    "            start = target+1        \n",
    "            target = make_target(start, end)\n",
    "            if tmp == target:\n",
    "                print(target)\n",
    "                break\n",
    "\n",
    "        # 찾았다!\n",
    "        else:\n",
    "            print(target)\n",
    "            break\n",
    "\n",
    "        num_of_rans = 0   # 초기화는 필수\n",
    "    \n",
    "k, n = map(int,input().split())\n",
    "arr = [int(input()) for i in range(k)]\n",
    "\n",
    "min_num = min(arr)\n",
    "start = 1\n",
    "end = min_num\n",
    "\n",
    "if min_num == 1: \n",
    "    print(1)           # 가장 작은게 1이면 그 이상의 길이로는 자를 수 없음\n",
    "elif k == 1:          # 랜선이 하나뿐이면 자를 수 있는 최소길이=최대길이\n",
    "    print(arr[0])\n",
    "else: \n",
    "    target = make_target(start,end)\n",
    "    bin_search(target, start, end)\n"
   ]
  },
  {
   "cell_type": "code",
   "execution_count": 18,
   "metadata": {},
   "outputs": [
    {
     "name": "stdout",
     "output_type": "stream",
     "text": [
      "1 1\n",
      "2147483647\n"
     ]
    }
   ],
   "source": [
    "''' 다시 '''\n",
    "k, n = map(int,input().split())\n",
    "arr = [int(input()) for i in range(k)]\n",
    "\n",
    "start, end = 1, min(arr)\n",
    "\n",
    "while start <= end:\n",
    "    pivot = (start+end)//2\n",
    "    \n",
    "    num_of_rans = 0\n",
    "    \n",
    "    for ran in arr:\n",
    "        num_of_rans = num_of_rans + int(ran//pivot)\n",
    "        \n",
    "    if num_of_rans < n:\n",
    "        end = pivot - 1\n",
    "    \n",
    "    elif n <= num_of_rans:\n",
    "        start = pivot +1\n",
    "        \n",
    "print(end)\n",
    "    \n",
    "    \n",
    "    "
   ]
  },
  {
   "cell_type": "code",
   "execution_count": null,
   "metadata": {},
   "outputs": [],
   "source": [
    "#arr = [802, 743, 457, 539]\n",
    "#arr = [2,1,2,1]\n",
    "#arr = [2147483647]\n",
    "#arr = [40,20,10]\n",
    "#arr = [3,2]\n"
   ]
  },
  {
   "cell_type": "code",
   "execution_count": null,
   "metadata": {},
   "outputs": [],
   "source": []
  },
  {
   "cell_type": "code",
   "execution_count": 32,
   "metadata": {},
   "outputs": [
    {
     "name": "stdout",
     "output_type": "stream",
     "text": [
      "4 7\n",
      "20 15 10 17\n",
      "2147483647\n"
     ]
    }
   ],
   "source": [
    "\n",
    "k, n = map(int,input().split())\n",
    "arr = list(map(int,input().split()))\n",
    "\n",
    "# 놓친거 3. max()를 end로 둬야한다. <----이거때문에 계속 틀림\n",
    "start, end = 1, max(arr)\n",
    "\n",
    "while start <= end:\n",
    "    num_of_rans = 0              # 여기 넣어주면 자동 초기화\n",
    "\n",
    "    target = (start+end) // 2    # 함수 만들 필요 없다. 그냥 베이직 코드로!\n",
    "    \n",
    "    # Main Idea - 랜선별로 각각 계산 후 add\n",
    "    for card in arr:\n",
    "        num_of_rans = num_of_rans + int(card // target)\n",
    "\n",
    "    # 개수가 부족 = target(pivot)을 더 줄여서 개수를 늘려줘야함\n",
    "    if num_of_rans < n:\n",
    "        end = target-1\n",
    "        \n",
    "    # 개수가 많다 = target(pivot)을 키워서 개수 줄여야함\n",
    "    # 놓친거 1. 일단 같거나 많으면, 조정도 해줘야함\n",
    "    elif n <= num_of_rans:\n",
    "        start = target+1\n",
    "\n",
    "# 놓친거 2. pivot을 출력하게되면, start가 될수도, end가 될수도 있음 (while문 종료조건)\n",
    "#    -> 따라서 가장 큰 값을 출력하는 것이므로 end를 도출해야 함\n",
    "print(target)"
   ]
  },
  {
   "cell_type": "code",
   "execution_count": null,
   "metadata": {},
   "outputs": [],
   "source": []
  },
  {
   "cell_type": "code",
   "execution_count": null,
   "metadata": {},
   "outputs": [],
   "source": []
  }
 ],
 "metadata": {
  "kernelspec": {
   "display_name": "Python 3",
   "language": "python",
   "name": "python3"
  },
  "language_info": {
   "codemirror_mode": {
    "name": "ipython",
    "version": 3
   },
   "file_extension": ".py",
   "mimetype": "text/x-python",
   "name": "python",
   "nbconvert_exporter": "python",
   "pygments_lexer": "ipython3",
   "version": "3.8.5"
  }
 },
 "nbformat": 4,
 "nbformat_minor": 4
}
