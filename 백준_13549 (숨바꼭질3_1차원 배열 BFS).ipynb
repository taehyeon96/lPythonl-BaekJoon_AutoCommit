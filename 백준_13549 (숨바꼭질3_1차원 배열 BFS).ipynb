{
 "cells": [
  {
   "cell_type": "code",
   "execution_count": null,
   "metadata": {},
   "outputs": [],
   "source": []
  },
  {
   "cell_type": "code",
   "execution_count": null,
   "metadata": {},
   "outputs": [],
   "source": []
  },
  {
   "cell_type": "code",
   "execution_count": 30,
   "metadata": {},
   "outputs": [
    {
     "name": "stdout",
     "output_type": "stream",
     "text": [
      "5 17\n",
      "2\n"
     ]
    }
   ],
   "source": [
    "from collections import deque\n",
    "#import sys\n",
    "\n",
    "n, k = map(int, input().split())\n",
    "#n, k = map(int, sys.stdin.readline().split(' '))\n",
    "visit = [0] * (k+1)\n",
    "\n",
    "answer = 0\n",
    "\n",
    "que = deque()\n",
    "que.append(n)\n",
    "\n",
    "while que:\n",
    "    now = que.popleft()\n",
    "    \n",
    "    # 전처리 수행\n",
    "    if now == k:\n",
    "        print(visit[now]+1)  # 0부터 시작했으므로\n",
    "        break\n",
    "        \n",
    "    for nx in [now-1, now+1, now*2]:\n",
    "        if 0 <= nx < (k+1):\n",
    "            if nx == now*2:                \n",
    "                que.append(nx)              # 초 ++ (X)\n",
    "            else:\n",
    "                visit[nx] = visit[now] + 1  # 초 ++ (O)\n",
    "                que.append(nx)\n"
   ]
  },
  {
   "cell_type": "code",
   "execution_count": 37,
   "metadata": {},
   "outputs": [
    {
     "name": "stdout",
     "output_type": "stream",
     "text": [
      "5 17\n",
      "-1\n"
     ]
    }
   ],
   "source": [
    "from collections import deque\n",
    "#import sys\n",
    "\n",
    "n, k = map(int, input().split())\n",
    "#n, k = map(int, sys.stdin.readline().split(' '))\n",
    "visit = [0] * 100001\n",
    "\n",
    "answer = -1\n",
    "\n",
    "que = deque()\n",
    "que.append(n)\n",
    "\n",
    "while que:\n",
    "    now = que.popleft()\n",
    "    \n",
    "    # 전처리 수행\n",
    "    if now == k:\n",
    "        answer = visit[now]  # 0부터 시작했으므로\n",
    "        break\n",
    "        \n",
    "    for nx in [now-1, now+1, now*2]:\n",
    "        if 0 <= nx < 100001 and visit[now] == 0:   # (중요) now가 첫 방문일때만!!!\n",
    "\n",
    "            if nx == now*2 and now != 0:   # 여기 틀렸음!!!!!!!!!!!!\n",
    "                visit[nx] = visit[now]        # 텔레포트, 초 ++ (X)\n",
    "                que.appendleft(nx)              \n",
    "            else: # 여긴 맞았음\n",
    "                visit[nx] = visit[now] + 1  # 초 ++ (O)\n",
    "                que.append(nx)\n",
    "print(answer)"
   ]
  },
  {
   "cell_type": "code",
   "execution_count": 36,
   "metadata": {},
   "outputs": [
    {
     "name": "stdout",
     "output_type": "stream",
     "text": [
      "5 17\n",
      "2\n"
     ]
    }
   ],
   "source": [
    "from collections import deque\n",
    "\n",
    "n, k = map(int, input().split())\n",
    "\n",
    "queue = deque()\n",
    "queue.append(n)\n",
    "visited = [0] * 100001\n",
    "ans = -1\n",
    "while queue:\n",
    "    x = queue.popleft()\n",
    "    if x == k:\n",
    "        ans = visited[x]\n",
    "        break\n",
    "\n",
    "    for nx in [x - 1, x+1, 2*x]:\n",
    "        if 0 <= nx < 100001 and visited[nx] == 0:\n",
    "            if nx == 2*x and x != 0:\n",
    "                visited[nx] = visited[x]\n",
    "                queue.appendleft(nx)\n",
    "            else:\n",
    "                visited[nx] = visited[x] + 1\n",
    "                queue.append(nx)\n",
    "\n",
    "\n",
    "print(ans)"
   ]
  },
  {
   "cell_type": "code",
   "execution_count": 9,
   "metadata": {},
   "outputs": [
    {
     "data": {
      "text/plain": [
       "2"
      ]
     },
     "execution_count": 9,
     "metadata": {},
     "output_type": "execute_result"
    }
   ],
   "source": [
    "visit[18]"
   ]
  }
 ],
 "metadata": {
  "kernelspec": {
   "display_name": "Python 3",
   "language": "python",
   "name": "python3"
  },
  "language_info": {
   "codemirror_mode": {
    "name": "ipython",
    "version": 3
   },
   "file_extension": ".py",
   "mimetype": "text/x-python",
   "name": "python",
   "nbconvert_exporter": "python",
   "pygments_lexer": "ipython3",
   "version": "3.8.5"
  }
 },
 "nbformat": 4,
 "nbformat_minor": 4
}
