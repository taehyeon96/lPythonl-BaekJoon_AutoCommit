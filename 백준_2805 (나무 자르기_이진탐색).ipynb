{
 "cells": [
  {
   "cell_type": "markdown",
   "metadata": {},
   "source": [
    "# 메모\n",
    "\n",
    "* 랜선 자르기(백준 1654)와 동일문제\n",
    "\n",
    "* **이처럼 브루트폴스할 때 계산할 범위가 엄청 커질 수 있는 경우 이진탐색 실시!**"
   ]
  },
  {
   "cell_type": "code",
   "execution_count": 16,
   "metadata": {},
   "outputs": [
    {
     "name": "stdout",
     "output_type": "stream",
     "text": [
      "4 7\n",
      "20 15 10 17\n",
      "10\n",
      "1.4813213348388672\n"
     ]
    }
   ],
   "source": [
    "\n",
    "k, want = map(int,input().split())\n",
    "arr = list(map(int,input().split()))\n",
    "\n",
    "start, end = 0, max(arr)\n",
    "\n",
    "while start <= end:\n",
    "    pivot = (start+end) // 2\n",
    "    \n",
    "    sum_of_wood = 0\n",
    "    \n",
    "    for wood in arr:\n",
    "        if wood - pivot > 0:                # (중요) 자른게 없는 경우는 더하면 안됨!\n",
    "            sum_of_wood += (wood - pivot)   # (중요) 랜선과 이게 다름! 나머지를 넣어줌\n",
    "    \n",
    "    # 내가 원한 길이가 부족하다면 -> 더 잘라야 -> 절단기 낮춰!\n",
    "    if sum_of_wood < want:\n",
    "        end = pivot -1\n",
    "    \n",
    "    # 내가 원한 길이보다 많아 -> 줄일 필요가 있어 -> 절단기 위로!\n",
    "    else:\n",
    "        start = pivot + 1\n",
    "        \n",
    "print(end)  # 마찬가지로 가능한 최댓값(end)\n"
   ]
  },
  {
   "cell_type": "code",
   "execution_count": null,
   "metadata": {},
   "outputs": [],
   "source": [
    "import sys\n",
    "\n",
    "k, want = map(int,sys.stdin.readline().split())\n",
    "arr = list(map(int,sys.stdin.readline().split()))\n",
    "\n",
    "start, end = 0, max(arr)\n",
    "\n",
    "while start <= end:\n",
    "    pivot = (start+end) // 2\n",
    "    \n",
    "    sum_of_wood = 0\n",
    "    \n",
    "    for wood in arr:\n",
    "        if wood - pivot > 0:                # (중요) 자른게 없는 경우는 더하면 안됨!\n",
    "            sum_of_wood += (wood - pivot)   # (중요) 랜선과 이게 다름! 나머지를 넣어줌\n",
    "    \n",
    "    # 내가 원한 길이가 부족하다면 -> 더 잘라야 -> 절단기 낮춰!\n",
    "    if sum_of_wood < want:\n",
    "        end = pivot -1\n",
    "    \n",
    "    # 내가 원한 길이보다 많아 -> 줄일 필요가 있어 -> 절단기 위로!\n",
    "    else:\n",
    "        start = pivot + 1\n",
    "        \n",
    "print(end)  # 마찬가지로 가능한 최댓값(end)"
   ]
  },
  {
   "cell_type": "code",
   "execution_count": null,
   "metadata": {},
   "outputs": [],
   "source": []
  },
  {
   "cell_type": "code",
   "execution_count": null,
   "metadata": {},
   "outputs": [],
   "source": []
  },
  {
   "cell_type": "code",
   "execution_count": null,
   "metadata": {},
   "outputs": [],
   "source": []
  }
 ],
 "metadata": {
  "kernelspec": {
   "display_name": "Python 3",
   "language": "python",
   "name": "python3"
  },
  "language_info": {
   "codemirror_mode": {
    "name": "ipython",
    "version": 3
   },
   "file_extension": ".py",
   "mimetype": "text/x-python",
   "name": "python",
   "nbconvert_exporter": "python",
   "pygments_lexer": "ipython3",
   "version": "3.8.5"
  }
 },
 "nbformat": 4,
 "nbformat_minor": 4
}
