{
 "cells": [
  {
   "cell_type": "markdown",
   "metadata": {},
   "source": [
    "# 메모\n",
    "\n",
    "* 테케는 0~40\n",
    "\n",
    "* 출력할거 : 0이 출력되는 횟수와 1이 출력되는 횟수"
   ]
  },
  {
   "cell_type": "code",
   "execution_count": 24,
   "metadata": {},
   "outputs": [
    {
     "name": "stdout",
     "output_type": "stream",
     "text": [
      "2\n",
      "6\n",
      "1 2\n",
      "22\n",
      "1 2\n"
     ]
    }
   ],
   "source": [
    "def fibo(n):\n",
    "    if n == 0:\n",
    "        memo[n] += 1\n",
    "        return 1\n",
    "    elif n == 1:\n",
    "        memo[n] += 1\n",
    "        return 1\n",
    "    \n",
    "    if memo[n] != 0:\n",
    "        return memo[n]\n",
    "    \n",
    "    memo[n] = fibo(n-1) + fibo(n-2)\n",
    "    return memo[n]\n",
    "\n",
    "for _ in range(int(input())):\n",
    "    n = int(input())\n",
    "    \n",
    "    memo = [0]*41  # 0 ~ 40\n",
    "    fibo(n)\n",
    "    print(memo[0], memo[1])\n",
    "    "
   ]
  },
  {
   "cell_type": "code",
   "execution_count": 22,
   "metadata": {},
   "outputs": [
    {
     "name": "stdout",
     "output_type": "stream",
     "text": [
      "5\n",
      "0\n",
      "1 0\n",
      "1\n",
      "0 1\n",
      "3\n",
      "1 2\n",
      "6\n",
      "5 8\n",
      "22\n",
      "10946 17711\n"
     ]
    }
   ],
   "source": [
    "import sys\n",
    "\n",
    "def fibo(n):\n",
    "    if n == 0:\n",
    "        memo[n] += 1\n",
    "        return 1\n",
    "    elif n == 1:\n",
    "        memo[n] += 1\n",
    "        return 1\n",
    "    \n",
    "    \n",
    "    \n",
    "    memo[n] = fibo(n-1) + fibo(n-2)\n",
    "    return memo[n]\n",
    "\n",
    "for _ in range(int(sys.stdin.readline())):\n",
    "    n = int(sys.stdin.readline())\n",
    "    \n",
    "    memo = [0]*41  # 0 ~ 40\n",
    "    fibo(n)\n",
    "    print(memo[0], memo[1])\n",
    "    "
   ]
  },
  {
   "cell_type": "code",
   "execution_count": null,
   "metadata": {},
   "outputs": [],
   "source": []
  },
  {
   "cell_type": "code",
   "execution_count": null,
   "metadata": {},
   "outputs": [],
   "source": []
  },
  {
   "cell_type": "code",
   "execution_count": null,
   "metadata": {},
   "outputs": [],
   "source": []
  },
  {
   "cell_type": "code",
   "execution_count": null,
   "metadata": {},
   "outputs": [],
   "source": []
  }
 ],
 "metadata": {
  "kernelspec": {
   "display_name": "Python 3",
   "language": "python",
   "name": "python3"
  },
  "language_info": {
   "codemirror_mode": {
    "name": "ipython",
    "version": 3
   },
   "file_extension": ".py",
   "mimetype": "text/x-python",
   "name": "python",
   "nbconvert_exporter": "python",
   "pygments_lexer": "ipython3",
   "version": "3.8.5"
  }
 },
 "nbformat": 4,
 "nbformat_minor": 4
}
