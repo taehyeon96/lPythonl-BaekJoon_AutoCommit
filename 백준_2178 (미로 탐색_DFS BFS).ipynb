{
 "cells": [
  {
   "cell_type": "markdown",
   "metadata": {},
   "source": [
    "이건 BFS네 -> 동빈나에서 같은 문제 있었음\n",
    "\n",
    "다른점 : 테스트케이스가 다양함\n",
    " => n*n 행렬이 아닌, n*m 행렬임을 주의한다!!!"
   ]
  },
  {
   "cell_type": "code",
   "execution_count": 35,
   "metadata": {},
   "outputs": [
    {
     "name": "stdout",
     "output_type": "stream",
     "text": [
      "2 25\n",
      "1011101110111011101110111\n",
      "1110111011101110111011101\n",
      "38\n"
     ]
    },
    {
     "data": {
      "text/plain": [
       "'\\nprint(bfs((0,0),\\n          [[1,0,1,1,1,1],\\n          [1,0,1,0,1,0],\\n          [1,0,1,0,1,1],\\n          [1,1,1,0,1,1]], 4, 6))\\n\\nprint(bfs((0,0), \\n          [[1,1,0,1,1,0],\\n          [1,1,0,1,1,0],\\n          [1,1,1,1,1,1],\\n          [1,1,1,1,0,1]], 4, 6))\\n\\nprint(bfs((0,0), \\n          [[1, 0, 1, 1, 1, 0, 1, 1, 1, 0, 1, 1, 1, 0, 1, 1, 1, 0, 1, 1, 1, 0, 1, 1, 1], \\n          [1, 1, 1, 0, 1, 1, 1, 0, 1, 1, 1, 0, 1, 1, 1, 0, 1, 1, 1, 0, 1, 1, 1, 0, 1]], 2, 5))\\n\\nprint(bfs((0,0), \\n          [[1, 0, 1, 1, 1, 1, 1], \\n           [1, 1, 1, 0, 0, 0, 1], \\n           [1, 0, 0, 0, 0, 0, 1], \\n           [1, 0, 0, 0, 0, 0, 1], \\n           [1, 0, 0, 0, 0, 0, 1], \\n           [1, 0, 0, 0, 0, 0, 1], \\n           [1, 1, 1, 1, 1, 1, 1]], 7, 7))\\n'"
      ]
     },
     "execution_count": 35,
     "metadata": {},
     "output_type": "execute_result"
    }
   ],
   "source": [
    "''' 내가 푼 - 하루 전에 동빈나 공부했던 거랑 똑같은 문제임 '''\n",
    "from collections import deque\n",
    "\n",
    "def bfs(s, graph, n, m):\n",
    "    que = deque([s])\n",
    "    #    상 하 좌 우\n",
    "    dy = [-1, 1, 0, 0]\n",
    "    dx = [0, 0, -1, 1]    \n",
    "        \n",
    "    while que:\n",
    "        y, x = que.popleft()\n",
    "        \n",
    "        for i in range(4):\n",
    "            ny = y + dy[i]\n",
    "            nx = x + dx[i]\n",
    "            \n",
    "            if ny < 0 or n <= ny or nx < 0 or m <= nx:\n",
    "                continue\n",
    "            \n",
    "            if graph[ny][nx] == 0:    # (중요) 이거 필수임\n",
    "                continue\n",
    "            \n",
    "            if graph[ny][nx] == 1:\n",
    "                graph[ny][nx] = graph[y][x] + 1\n",
    "                que.append((ny, nx))\n",
    "                # BFS는 재귀함수 없다!\n",
    "                        \n",
    "    return graph[n-1][m-1]          # 이 문제는 BFS 다 끝나고 N,M 위치에 값을 리턴한다\n",
    "\n",
    "n, m = map(int, input().split())\n",
    "graph = [list(map(int,input())) for _ in range(n)]\n",
    "\n",
    "# n * m 행렬이므로 (중요)\n",
    "new_n = len(graph)\n",
    "new_m = len(graph[0])\n",
    "\n",
    "print(bfs((0,0), graph, new_n, new_m))\n",
    "\n",
    "'''\n",
    "print(bfs((0,0),\n",
    "          [[1,0,1,1,1,1],\n",
    "          [1,0,1,0,1,0],\n",
    "          [1,0,1,0,1,1],\n",
    "          [1,1,1,0,1,1]], 4, 6))\n",
    "\n",
    "print(bfs((0,0), \n",
    "          [[1,1,0,1,1,0],\n",
    "          [1,1,0,1,1,0],\n",
    "          [1,1,1,1,1,1],\n",
    "          [1,1,1,1,0,1]], 4, 6))\n",
    "\n",
    "print(bfs((0,0), \n",
    "          [[1, 0, 1, 1, 1, 0, 1, 1, 1, 0, 1, 1, 1, 0, 1, 1, 1, 0, 1, 1, 1, 0, 1, 1, 1], \n",
    "          [1, 1, 1, 0, 1, 1, 1, 0, 1, 1, 1, 0, 1, 1, 1, 0, 1, 1, 1, 0, 1, 1, 1, 0, 1]], 2, 5))\n",
    "\n",
    "print(bfs((0,0), \n",
    "          [[1, 0, 1, 1, 1, 1, 1], \n",
    "           [1, 1, 1, 0, 0, 0, 1], \n",
    "           [1, 0, 0, 0, 0, 0, 1], \n",
    "           [1, 0, 0, 0, 0, 0, 1], \n",
    "           [1, 0, 0, 0, 0, 0, 1], \n",
    "           [1, 0, 0, 0, 0, 0, 1], \n",
    "           [1, 1, 1, 1, 1, 1, 1]], 7, 7))\n",
    "'''"
   ]
  },
  {
   "attachments": {
    "image.png": {
     "image/png": "[encoded data removed]"
    }
   },
   "cell_type": "markdown",
   "metadata": {},
   "source": [
    "![image.png](attachment:image.png)"
   ]
  },
  {
   "cell_type": "code",
   "execution_count": 27,
   "metadata": {},
   "outputs": [
    {
     "name": "stdout",
     "output_type": "stream",
     "text": [
      "1011111\n",
      "1110001\n",
      "1000001\n",
      "1000001\n",
      "1000001\n",
      "1000001\n",
      "1111111\n",
      "[[1, 0, 1, 1, 1, 1, 1], [1, 1, 1, 0, 0, 0, 1], [1, 0, 0, 0, 0, 0, 1], [1, 0, 0, 0, 0, 0, 1], [1, 0, 0, 0, 0, 0, 1], [1, 0, 0, 0, 0, 0, 1], [1, 1, 1, 1, 1, 1, 1]]\n"
     ]
    }
   ],
   "source": [
    "a = [list(map(int,input())) for _ in range(7)]\n",
    "\n",
    "print(a)"
   ]
  },
  {
   "cell_type": "code",
   "execution_count": 24,
   "metadata": {},
   "outputs": [
    {
     "name": "stdout",
     "output_type": "stream",
     "text": [
      "25\n"
     ]
    }
   ],
   "source": [
    "b = [[1, 0, 1, 1, 1, 0, 1, 1, 1, 0, 1, 1, 1, 0, 1, 1, 1, 0, 1, 1, 1, 0, 1, 1, 1], [1, 1, 1, 0, 1, 1, 1, 0, 1, 1, 1, 0, 1, 1, 1, 0, 1, 1, 1, 0, 1, 1, 1, 0, 1]]\n",
    "\n",
    "print(len(b[0]))"
   ]
  },
  {
   "cell_type": "code",
   "execution_count": 1,
   "metadata": {},
   "outputs": [
    {
     "data": {
      "text/plain": [
       "['__add__',\n",
       " '__class__',\n",
       " '__contains__',\n",
       " '__delattr__',\n",
       " '__dir__',\n",
       " '__doc__',\n",
       " '__eq__',\n",
       " '__format__',\n",
       " '__ge__',\n",
       " '__getattribute__',\n",
       " '__getitem__',\n",
       " '__getnewargs__',\n",
       " '__gt__',\n",
       " '__hash__',\n",
       " '__init__',\n",
       " '__init_subclass__',\n",
       " '__iter__',\n",
       " '__le__',\n",
       " '__len__',\n",
       " '__lt__',\n",
       " '__mod__',\n",
       " '__mul__',\n",
       " '__ne__',\n",
       " '__new__',\n",
       " '__reduce__',\n",
       " '__reduce_ex__',\n",
       " '__repr__',\n",
       " '__rmod__',\n",
       " '__rmul__',\n",
       " '__setattr__',\n",
       " '__sizeof__',\n",
       " '__str__',\n",
       " '__subclasshook__',\n",
       " 'capitalize',\n",
       " 'casefold',\n",
       " 'center',\n",
       " 'count',\n",
       " 'encode',\n",
       " 'endswith',\n",
       " 'expandtabs',\n",
       " 'find',\n",
       " 'format',\n",
       " 'format_map',\n",
       " 'index',\n",
       " 'isalnum',\n",
       " 'isalpha',\n",
       " 'isascii',\n",
       " 'isdecimal',\n",
       " 'isdigit',\n",
       " 'isidentifier',\n",
       " 'islower',\n",
       " 'isnumeric',\n",
       " 'isprintable',\n",
       " 'isspace',\n",
       " 'istitle',\n",
       " 'isupper',\n",
       " 'join',\n",
       " 'ljust',\n",
       " 'lower',\n",
       " 'lstrip',\n",
       " 'maketrans',\n",
       " 'partition',\n",
       " 'replace',\n",
       " 'rfind',\n",
       " 'rindex',\n",
       " 'rjust',\n",
       " 'rpartition',\n",
       " 'rsplit',\n",
       " 'rstrip',\n",
       " 'split',\n",
       " 'splitlines',\n",
       " 'startswith',\n",
       " 'strip',\n",
       " 'swapcase',\n",
       " 'title',\n",
       " 'translate',\n",
       " 'upper',\n",
       " 'zfill']"
      ]
     },
     "execution_count": 1,
     "metadata": {},
     "output_type": "execute_result"
    }
   ],
   "source": [
    "dir(str)"
   ]
  }
 ],
 "metadata": {
  "kernelspec": {
   "display_name": "Python 3",
   "language": "python",
   "name": "python3"
  },
  "language_info": {
   "codemirror_mode": {
    "name": "ipython",
    "version": 3
   },
   "file_extension": ".py",
   "mimetype": "text/x-python",
   "name": "python",
   "nbconvert_exporter": "python",
   "pygments_lexer": "ipython3",
   "version": "3.8.5"
  }
 },
 "nbformat": 4,
 "nbformat_minor": 4
}
