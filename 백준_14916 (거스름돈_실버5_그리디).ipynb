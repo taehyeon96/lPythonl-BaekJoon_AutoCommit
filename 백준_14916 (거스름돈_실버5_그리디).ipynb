{
 "cells": [
  {
   "cell_type": "markdown",
   "metadata": {},
   "source": [
    "## 메모\n",
    "### 메모한것\n",
    "\n",
    "2와 5로만\n",
    "동전 개수가 최소가 되도록\n",
    "출력할 것 : 거스름돈이 n일 때, 최소 동전의 개수\n",
    "\n",
    "13원일 때, 5원 1개 + 2원 4개 = 총 5개가 된다\n",
    "\n",
    "방법이 없으면 -1 출력\n",
    "\n",
    "### 알고리즘\n",
    "n = 13\n",
    "money = [2, 5]\n",
    "ans = 0\n",
    "while n>0:\n",
    "    \n",
    "    ### 이런식으로 병렬로 처리하자\n",
    "    \n",
    "    if n // 5 > 0:   # n을 5로 나눌 수 있을 때\n",
    "        ans = ans + (n // 5) - 모든 경우의 수를 해볼 수 있도록 변수하나 생성해주자\n",
    "        n = n % 5\n",
    "        \n",
    "    if n // 2 > 0:\n",
    "        ans += n // 2\n",
    "        n = n % 2\n",
    "        \n",
    "    if n == 0:\n",
    "        break\n",
    "    else:\n",
    "        n = 13   # 모든 경우의 수 해볼 수 있도록 원상복구 시켜주기\n",
    "\n",
    "\n",
    "### 시복\n",
    "\n",
    "\n",
    "\n",
    "### 변수\n",
    "m : 원래대로 돌릴 수 있도록하는 정답값 원본\n",
    "stopword : 0,1,3은 어떻게 해도 안나오는 값이므로 미리 전처리\n",
    "minus : 처음에 5로 빼보고 안되면 5 하나씩 빼면서 모든 경우의 수 해볼 수 있게\n"
   ]
  },
  {
   "cell_type": "code",
   "execution_count": 34,
   "metadata": {},
   "outputs": [
    {
     "name": "stdout",
     "output_type": "stream",
     "text": [
      "3\n",
      "-1\n"
     ]
    }
   ],
   "source": [
    "n = int(input())\n",
    "m = n\n",
    "money = [2, 5]\n",
    "ans = 0\n",
    "stopword = [0,1,3]\n",
    "\n",
    "minus = 0\n",
    "\n",
    "while n>=0:\n",
    "    if n in stopword:\n",
    "        ans = -1\n",
    "        break\n",
    "    \n",
    "    if n // 5 > 0:\n",
    "        ans += (n // 5) - minus\n",
    "        n = (n % 5) + (minus * 5)\n",
    "        \n",
    "    if n // 2 > 0:\n",
    "        ans += (n // 2)\n",
    "        n = n % 2\n",
    "        \n",
    "    if n == 0:\n",
    "        break\n",
    "    elif n > 0:\n",
    "        n = m\n",
    "        ans = 0\n",
    "        minus += 1\n",
    "        \n",
    "print(ans)"
   ]
  },
  {
   "cell_type": "code",
   "execution_count": 36,
   "metadata": {},
   "outputs": [
    {
     "name": "stdout",
     "output_type": "stream",
     "text": [
      "13\n",
      "5\n"
     ]
    }
   ],
   "source": [
    "n = int(input())\n",
    "\n",
    "cnt = 0\n",
    "i = 0\n",
    "\n",
    "while True:\n",
    "    if n % 5 == 0:   # 5의배수이면 or 2로만 거슬러주고 n이 0이된경우 \n",
    "        cnt += n//5  #5로나눈 몫이 정답 - 끝!\n",
    "        break\n",
    "    else:\n",
    "        n -= 2       #5의배수가 아니면 2백원씩 뺴면서 5로 나누어떨어지는것이 나오도록\n",
    "        cnt += 1\n",
    "\n",
    "    if n < 0:        # 2백원씩 뺏더니 음수가 되버린경우 --> 거슬러줄수 없을을 의미함 \n",
    "        break\n",
    "        \n",
    "        \n",
    "print(-1) if n < 0 else print(cnt)"
   ]
  }
 ],
 "metadata": {
  "kernelspec": {
   "display_name": "Python 3",
   "language": "python",
   "name": "python3"
  },
  "language_info": {
   "codemirror_mode": {
    "name": "ipython",
    "version": 3
   },
   "file_extension": ".py",
   "mimetype": "text/x-python",
   "name": "python",
   "nbconvert_exporter": "python",
   "pygments_lexer": "ipython3",
   "version": "3.8.5"
  }
 },
 "nbformat": 4,
 "nbformat_minor": 4
}
