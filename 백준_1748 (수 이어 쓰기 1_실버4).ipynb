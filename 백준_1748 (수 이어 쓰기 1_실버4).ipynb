{
 "cells": [
  {
   "cell_type": "markdown",
   "metadata": {},
   "source": [
    "# 습관들이기\n",
    "### 메모\n",
    "* 그냥 len()안됨???\n",
    "    - 그냥 len()은 아니고\n",
    "    - **문자열로** 붙여준 후 len하면 끝일듯\n",
    "    - 그냥 for문 돌리면 10 11 12 이런건 숫자 하나로 카운팅됨\n",
    "\n",
    "* 시간초과 났으니까\n",
    "    - 계산 때리면 될듯\n",
    "        - 1자리수 : +=1\n",
    "        - 2자리수 : +=2\n",
    "        - 3자리수 : +=3 이런느낌\n",
    "    \n",
    "### 아이디어\n",
    "* 필요없을듯 바로나올듯\n",
    "    - 안됐당.. 수식 세우자\n",
    "\n",
    "* input이 9의자리 수까지 나옴\n",
    "\n",
    "if 1 <= n < 10:\n",
    "    각각 1씩 더해줘서 총 9번 더해짐  = 1 * 9\n",
    "if 10 <= n < 100:\n",
    "    각각 2씩 더해줘서 총 99번 더해짐 = 2 * 99\n",
    "if 100<= n < 1000:\n",
    "    각각 3씩 더해줘서 총 999번 더해짐 = 3 * 999\n",
    "    \n",
    "                                      = i * (str(인풋값의 각 자리수의 값)*i)\n",
    "* 그래서 만약 15가 들어와\n",
    "    - 10과 5로 쪼개\n",
    "    - 10은 1자리수, 5는 2자리수를 곱해주는거\n",
    "    \n",
    "\n",
    "125\n",
    "\n",
    "### 시간복잡도\n",
    "\n",
    "\n",
    "### 변수\n",
    "\n"
   ]
  },
  {
   "cell_type": "code",
   "execution_count": 48,
   "metadata": {},
   "outputs": [
    {
     "name": "stdout",
     "output_type": "stream",
     "text": [
      "125\n",
      "267\n"
     ]
    }
   ],
   "source": [
    "''' 딥은 나오는데메모리 초과 '''\n",
    "arr = \"\".join(map(str, [i for i in range(1,int(input())+1)]))\n",
    "print(len(arr))"
   ]
  },
  {
   "cell_type": "code",
   "execution_count": 80,
   "metadata": {},
   "outputs": [
    {
     "name": "stdout",
     "output_type": "stream",
     "text": [
      "120\n",
      "1 111 9 99\n",
      "2 12 207 999\n",
      "-2754\n"
     ]
    }
   ],
   "source": [
    "#n = list(map(int,input()))\n",
    "n = int(input())\n",
    "leng = len(str(n))\n",
    "cnt = 9\n",
    "ans = 0\n",
    "\n",
    "for i in range(1,leng+1):\n",
    "    \n",
    "    n -= cnt\n",
    "    if n < 10:\n",
    "        ans = ans + (i*n)\n",
    "        print(ans)\n",
    "        break\n",
    "    else:\n",
    "        ans = ans + (i*cnt)\n",
    "    cnt = (cnt * 10) + 9\n",
    "    print(i, n, ans, cnt)\n",
    "    \n",
    "    \n"
   ]
  },
  {
   "cell_type": "code",
   "execution_count": 81,
   "metadata": {},
   "outputs": [
    {
     "name": "stdout",
     "output_type": "stream",
     "text": [
      "120\n",
      "252\n"
     ]
    }
   ],
   "source": [
    "n = int(input())\n",
    "\n",
    "answer = 0\n",
    "for i in range(1, n + 1):\n",
    "    answer += len(str(i))\n",
    "\n",
    "print(answer)"
   ]
  },
  {
   "cell_type": "code",
   "execution_count": 7,
   "metadata": {},
   "outputs": [
    {
     "name": "stdout",
     "output_type": "stream",
     "text": [
      "100000000\n",
      "788888898\n"
     ]
    }
   ],
   "source": [
    "n = int(input())\n",
    "\n",
    "arr = \"\".join(map(str, [i for i in range(1,n+1)]))\n",
    "\n",
    "\n",
    "print(len(arr))"
   ]
  },
  {
   "cell_type": "code",
   "execution_count": 28,
   "metadata": {},
   "outputs": [
    {
     "name": "stdout",
     "output_type": "stream",
     "text": [
      "120\n",
      "132\n",
      "133\n"
     ]
    }
   ],
   "source": [
    "n = 120\n",
    "i = 1\n",
    "ans = 0\n",
    "\n",
    "ans += n // i\n",
    "print(ans)\n",
    "\n",
    "i = i * 10\n",
    "\n",
    "\n",
    "ans += n // i\n",
    "print(ans)\n",
    "\n",
    "i = i * 10\n",
    "\n",
    "\n",
    "ans += n // i\n",
    "print(ans)"
   ]
  },
  {
   "cell_type": "code",
   "execution_count": 18,
   "metadata": {},
   "outputs": [
    {
     "name": "stdout",
     "output_type": "stream",
     "text": [
      "10\n",
      "110\n"
     ]
    }
   ],
   "source": [
    "n = 5\n",
    "i = 2\n",
    "print(i*n)\n",
    "print(i * int(str(n)*i))\n",
    "\n",
    "\n",
    "#for i in range(1,10):\n",
    "#    print(i)\n",
    "#    print((str(n)*i))\n",
    "#    print(i * int(str(n)*i))\n"
   ]
  },
  {
   "cell_type": "code",
   "execution_count": 9,
   "metadata": {},
   "outputs": [
    {
     "name": "stdout",
     "output_type": "stream",
     "text": [
      "15\n",
      "9\n"
     ]
    }
   ],
   "source": [
    "n = int(input())\n",
    "ans = 0\n",
    "\n",
    "\n",
    "\n",
    "for i in range(1,10):  # 9의 자리 수까지\n",
    "\n",
    "print(ans)"
   ]
  }
 ],
 "metadata": {
  "kernelspec": {
   "display_name": "Python 3",
   "language": "python",
   "name": "python3"
  },
  "language_info": {
   "codemirror_mode": {
    "name": "ipython",
    "version": 3
   },
   "file_extension": ".py",
   "mimetype": "text/x-python",
   "name": "python",
   "nbconvert_exporter": "python",
   "pygments_lexer": "ipython3",
   "version": "3.8.5"
  }
 },
 "nbformat": 4,
 "nbformat_minor": 4
}
