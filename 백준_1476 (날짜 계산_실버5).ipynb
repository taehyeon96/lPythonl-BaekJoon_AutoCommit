{
 "cells": [
  {
   "cell_type": "markdown",
   "metadata": {},
   "source": [
    "### 메모\n",
    "* 총 3개 변수로 연도 나타냄\n",
    "    * 지구 E (1~15)\n",
    "    * 태양 S (1~28)\n",
    "    * 달 M (1~19)\n",
    "\n",
    "* 우리의 1년 = 1 1 1\n",
    "    - 1년이 지날 때마다 세 수가 모두 1씩 증가 (2 2 2)\n",
    "    - 15년은 (15 15 15)\n",
    "    \n",
    "* 그러나 각 범위가 넘어갈 때에만 다시 1이 됨\n",
    "    - 16년은 (1 16 16)\n",
    "\n",
    "* 내가 할거 : 이상한 연도 => 우리 연도 변환\n",
    "\n",
    "### 아이디어\n",
    "\n",
    "걍 while 1부터 각각 병렬로 += 1 시키고\n",
    " year에도 += 1 \n",
    "\n",
    " if E == 1 and S == 2 and M == 3:\n",
    "     print(year)\n",
    "     break\n",
    "\n",
    "하면 되는거 아니냐\n",
    "\n",
    "### 시간복잡도\n",
    "O(n)일 듯?\n",
    "\n",
    "### 변수\n",
    "같이 counting할 int year"
   ]
  },
  {
   "cell_type": "code",
   "execution_count": 24,
   "metadata": {
    "scrolled": false
   },
   "outputs": [
    {
     "name": "stdout",
     "output_type": "stream",
     "text": [
      "1 16 16\n",
      "16\n"
     ]
    }
   ],
   "source": [
    "\n",
    "x, y, z = map(int, input().split())\n",
    "year = 0\n",
    "\n",
    "e, s, m = 0, 0, 0\n",
    "\n",
    "while 1:\n",
    "    year += 1\n",
    "    e = e + 1 if e < 15 else 1\n",
    "    s = s + 1 if s < 28 else 1\n",
    "    m = m + 1 if m < 19 else 1\n",
    "    \n",
    "    if e == x and s == y and m == z:\n",
    "        print(year)\n",
    "        break\n"
   ]
  },
  {
   "cell_type": "code",
   "execution_count": 6,
   "metadata": {},
   "outputs": [
    {
     "name": "stdout",
     "output_type": "stream",
     "text": [
      "2\n"
     ]
    }
   ],
   "source": [
    "e = 0\n",
    "for i in range(18):\n",
    "    e = e + 1 if e <= 15 else 1\n",
    "    \n",
    "print(e)"
   ]
  }
 ],
 "metadata": {
  "kernelspec": {
   "display_name": "Python 3",
   "language": "python",
   "name": "python3"
  },
  "language_info": {
   "codemirror_mode": {
    "name": "ipython",
    "version": 3
   },
   "file_extension": ".py",
   "mimetype": "text/x-python",
   "name": "python",
   "nbconvert_exporter": "python",
   "pygments_lexer": "ipython3",
   "version": "3.8.5"
  }
 },
 "nbformat": 4,
 "nbformat_minor": 4
}
