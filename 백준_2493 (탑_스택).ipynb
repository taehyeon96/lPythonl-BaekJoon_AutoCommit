{
 "cells": [
  {
   "cell_type": "code",
   "execution_count": 35,
   "metadata": {},
   "outputs": [
    {
     "name": "stdout",
     "output_type": "stream",
     "text": [
      "5\n",
      "6 9 5 7 4\n",
      "0 0 2 2 4\n"
     ]
    }
   ],
   "source": [
    "leng = int(input())\n",
    "arr = list(map(int,input().split()))\n",
    "\n",
    "ans = []\n",
    "\n",
    "# 역순으로 가야한다\n",
    "for i in range(leng-1, 0, -1):     # 1까지\n",
    "    for j in range(i-1, -1, -1):   # 0까지\n",
    "        if arr[i] < arr[j]:\n",
    "            ans.append(j+1)\n",
    "            break\n",
    "        if i == 1 and arr[i] > arr[j]:  # 끝에서 두 번째 기둥 예외 케이스 처리\n",
    "            ans.append(0)\n",
    "\n",
    "ans.append(0)    # 맨 앞의 탑은 그 앞이 없으므로 항상 0이다\n",
    "print(\" \".join(map(str,ans[::-1])))"
   ]
  },
  {
   "cell_type": "code",
   "execution_count": 31,
   "metadata": {
    "collapsed": true
   },
   "outputs": [
    {
     "ename": "ValueError",
     "evalue": "invalid literal for int() with base 10: ''",
     "output_type": "error",
     "traceback": [
      "\u001b[1;31m---------------------------------------------------------------------------\u001b[0m",
      "\u001b[1;31mValueError\u001b[0m                                Traceback (most recent call last)",
      "\u001b[1;32m<ipython-input-31-da9a146aedcf>\u001b[0m in \u001b[0;36m<module>\u001b[1;34m\u001b[0m\n\u001b[0;32m      1\u001b[0m \u001b[1;32mimport\u001b[0m \u001b[0msys\u001b[0m\u001b[1;33m\u001b[0m\u001b[1;33m\u001b[0m\u001b[0m\n\u001b[1;32m----> 2\u001b[1;33m \u001b[0mleng\u001b[0m \u001b[1;33m=\u001b[0m \u001b[0mint\u001b[0m\u001b[1;33m(\u001b[0m\u001b[0msys\u001b[0m\u001b[1;33m.\u001b[0m\u001b[0mstdin\u001b[0m\u001b[1;33m.\u001b[0m\u001b[0mreadline\u001b[0m\u001b[1;33m(\u001b[0m\u001b[1;33m)\u001b[0m\u001b[1;33m)\u001b[0m\u001b[1;33m\u001b[0m\u001b[1;33m\u001b[0m\u001b[0m\n\u001b[0m\u001b[0;32m      3\u001b[0m \u001b[0marr\u001b[0m \u001b[1;33m=\u001b[0m \u001b[0mlist\u001b[0m\u001b[1;33m(\u001b[0m\u001b[0mmap\u001b[0m\u001b[1;33m(\u001b[0m\u001b[0mint\u001b[0m\u001b[1;33m,\u001b[0m\u001b[0msys\u001b[0m\u001b[1;33m.\u001b[0m\u001b[0mstdin\u001b[0m\u001b[1;33m.\u001b[0m\u001b[0mreadline\u001b[0m\u001b[1;33m(\u001b[0m\u001b[1;33m)\u001b[0m\u001b[1;33m.\u001b[0m\u001b[0msplit\u001b[0m\u001b[1;33m(\u001b[0m\u001b[1;33m)\u001b[0m\u001b[1;33m)\u001b[0m\u001b[1;33m)\u001b[0m\u001b[1;33m\u001b[0m\u001b[1;33m\u001b[0m\u001b[0m\n\u001b[0;32m      4\u001b[0m \u001b[1;33m\u001b[0m\u001b[0m\n\u001b[0;32m      5\u001b[0m \u001b[0mans\u001b[0m \u001b[1;33m=\u001b[0m \u001b[1;33m[\u001b[0m\u001b[1;33m]\u001b[0m\u001b[1;33m\u001b[0m\u001b[1;33m\u001b[0m\u001b[0m\n",
      "\u001b[1;31mValueError\u001b[0m: invalid literal for int() with base 10: ''"
     ]
    }
   ],
   "source": [
    "import sys\n",
    "leng = int(sys.stdin.readline())\n",
    "arr = list(map(int,sys.stdin.readline().split()))\n",
    "\n",
    "ans = []\n",
    "\n",
    "# 역순으로 가야한다\n",
    "for i in range(leng-1, 0, -1):     # 1까지\n",
    "    for j in range(i-1, -1, -1):   # 0까지\n",
    "        if arr[i] < arr[j]:\n",
    "            ans.append(j+1)\n",
    "            break\n",
    "        if i == 1 and arr[i] > arr[j]:  # 끝에서 두 번째 기둥 예외 케이스 처리\n",
    "            ans.append(0)\n",
    "\n",
    "ans.append(0)    # 맨 앞의 탑은 그 앞이 없으므로 항상 0이다\n",
    "print(\" \".join(map(str,ans[::-1])))"
   ]
  },
  {
   "cell_type": "code",
   "execution_count": 30,
   "metadata": {},
   "outputs": [
    {
     "name": "stdout",
     "output_type": "stream",
     "text": [
      "<class 'list'>\n",
      "0 0 2 2 4\n"
     ]
    }
   ],
   "source": [
    "print(type(ans))\n"
   ]
  },
  {
   "cell_type": "code",
   "execution_count": null,
   "metadata": {},
   "outputs": [],
   "source": []
  },
  {
   "cell_type": "code",
   "execution_count": 41,
   "metadata": {},
   "outputs": [
    {
     "name": "stdout",
     "output_type": "stream",
     "text": [
      "5\n",
      "6 9 5 7 4\n",
      "0 0 2 2 4\n"
     ]
    }
   ],
   "source": [
    "leng = int(input())\n",
    "arr = list(map(int,input().split()))\n",
    "\n",
    "ans = []\n",
    "\n",
    "i = leng-1\n",
    "next_num = i\n",
    "\n",
    "# 역순으로 가야한다\n",
    "while 1:     # 인덱스의 끝값부터 1까지(인덱스 0 미포함)\n",
    "    next_num -= 1\n",
    "    if next_num < 0:\n",
    "        break\n",
    "        \n",
    "    if arr[next_num] > arr[i]:\n",
    "        ans.append(next_num+1)  # 정답은 0부터가 아니라 1부터\n",
    "        i -= 1\n",
    "        next_num = i\n",
    "        \n",
    "    if i == 1 and arr[next_num] < arr[i]:  # 끝에서 두 번째 기둥 예외 케이스 처리\n",
    "        ans.append(0)\n",
    "    \n",
    "\n",
    "ans.append(0)    # 맨 앞의 탑은 그 앞이 없으므로 항상 0이다\n",
    "print(\" \".join(map(str,ans[::-1])))"
   ]
  },
  {
   "cell_type": "code",
   "execution_count": 41,
   "metadata": {},
   "outputs": [
    {
     "name": "stdout",
     "output_type": "stream",
     "text": [
      "5\n",
      "6 9 5 7 4\n",
      "0 0 2 2 4\n"
     ]
    }
   ],
   "source": [
    "import sys\n",
    "leng = int(sys.stdin.readline())\n",
    "arr = list(map(int,sys.stdin.readline().split()))\n",
    "\n",
    "ans = []\n",
    "\n",
    "i = leng-1\n",
    "next_num = i\n",
    "\n",
    "# 역순으로 가야한다\n",
    "while 1:     # 인덱스의 끝값부터 1까지(인덱스 0 미포함)\n",
    "    next_num -= 1\n",
    "    if next_num < 0:\n",
    "        break\n",
    "        \n",
    "    if arr[next_num] > arr[i]:\n",
    "        ans.append(next_num+1)  # 정답은 0부터가 아니라 1부터\n",
    "        i -= 1\n",
    "        next_num = i\n",
    "        \n",
    "    if i == 1 and arr[next_num] < arr[i]:  # 끝에서 두 번째 기둥 예외 케이스 처리\n",
    "        ans.append(0)\n",
    "\n",
    "ans.append(0)    # 맨 앞의 탑은 그 앞이 없으므로 항상 0이다\n",
    "print(\" \".join(map(str,ans[::-1])))"
   ]
  },
  {
   "cell_type": "code",
   "execution_count": null,
   "metadata": {},
   "outputs": [],
   "source": []
  },
  {
   "cell_type": "code",
   "execution_count": 35,
   "metadata": {},
   "outputs": [
    {
     "name": "stdout",
     "output_type": "stream",
     "text": [
      "5\n",
      "6 9 5 7 4\n",
      "0 0 2 2 4\n"
     ]
    }
   ],
   "source": [
    "leng = int(input())\n",
    "arr = list(map(int,input().split()))\n",
    "\n",
    "ans = []\n",
    "i = leng-1\n",
    "next_num = i\n",
    "\n",
    "top = []\n",
    "\n",
    "# 역순으로 가야한다\n",
    "while next_num > 0:     # 1까지\n",
    "    next_num -= 1\n",
    "    top.append(next_num)\n",
    "    \n",
    "    for j in range(i-1, -1, -1):   # 0까지\n",
    "        \n",
    "        if arr[next_num] < arr[i]:\n",
    "            top.append(next_num)\n",
    "        \n",
    "        \n",
    "        if arr[i] < arr[j]:\n",
    "            ans.append(j+1)\n",
    "            break\n",
    "            \n",
    "        if i == 1 and arr[i] > arr[j]:  # 끝에서 두 번째 기둥 예외 케이스 처리\n",
    "            ans.append(0)\n",
    "\n",
    "ans.append(0)    # 맨 앞의 탑은 그 앞이 없으므로 항상 0이다\n",
    "print(\" \".join(map(str,ans[::-1])))"
   ]
  },
  {
   "cell_type": "code",
   "execution_count": null,
   "metadata": {},
   "outputs": [],
   "source": []
  },
  {
   "cell_type": "code",
   "execution_count": null,
   "metadata": {},
   "outputs": [],
   "source": [
    "leng = int(input())\n",
    "arr = list(map(int,input().split()))\n",
    "\n",
    "stack = []\n",
    "ans = []\n",
    "\n",
    "for i in range(leng, 0, -1):\n",
    "    j = i-1\n",
    "    if arr[j] > arr[i]:\n",
    "        ans.append(i)\n",
    "        continue\n",
    "        \n",
    "    if arr[j] < arr[i]:\n",
    "        \n",
    "        while j >= 0:\n",
    "            stack.append(j)\n",
    "            if stack[-1]\n",
    "            \n",
    "            j -= 1\n",
    "        "
   ]
  },
  {
   "cell_type": "code",
   "execution_count": null,
   "metadata": {},
   "outputs": [],
   "source": []
  },
  {
   "cell_type": "code",
   "execution_count": null,
   "metadata": {},
   "outputs": [],
   "source": []
  }
 ],
 "metadata": {
  "kernelspec": {
   "display_name": "Python 3",
   "language": "python",
   "name": "python3"
  },
  "language_info": {
   "codemirror_mode": {
    "name": "ipython",
    "version": 3
   },
   "file_extension": ".py",
   "mimetype": "text/x-python",
   "name": "python",
   "nbconvert_exporter": "python",
   "pygments_lexer": "ipython3",
   "version": "3.8.5"
  }
 },
 "nbformat": 4,
 "nbformat_minor": 4
}
