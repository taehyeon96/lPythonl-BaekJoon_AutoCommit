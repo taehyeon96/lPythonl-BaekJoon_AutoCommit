{
 "cells": [
  {
   "cell_type": "markdown",
   "metadata": {},
   "source": [
    "# 메모\n",
    "\n",
    "* N x M, 한 칸에 상어 최대 1마리\n",
    "    - 0 = 빈칸\n",
    "    - 1 = 상어\n",
    "    \n",
    "* 이동 기준은 대각선 포함쓰... 가운데 제외 총 8개\n",
    "\n",
    "* 구해야 하는 것 : 안전 거리의 최댓값\n",
    "\n",
    "* 브루트폴스로 시작해서 그 loop안에 bfs함수 돌리는데\n",
    "  - bfs()에서 False일 때만 탐색해서 중복탐색 방지하고\n",
    "  - nx의 그래프 값이 1이면 bfs종료하고 이전 n의 그래프값을 리턴해서 result.append()\n",
    "  - 최종 맨 마지막에 max(result)하면 될라나>"
   ]
  },
  {
   "cell_type": "markdown",
   "metadata": {},
   "source": [
    "\n",
    "* 내가 처음에 생각한건 브루트폴스로 시작해서\n",
    "  - BFS()진행하면서 상어 처음 발견하면 걔 거리(이전위치의) return해서 append()해주고\n",
    "  - 마지막에 max하면 되는거 아닌가?\n",
    "      - max하면 되는게, 맨 처음에 가장 가까운 애 찾은경우 바로 exit()하니까\n",
    "      - 가장 가까운 애 목록 중에서 최댓값을 출력하는 거임\n",
    "      \n",
    "      \n",
    "* 혹시 안되면 이거 토마토랑 같은 문제???????\n",
    "  - 시작할 때 시작 상어 위치 다 큐에 넣어주고 bfs돌리는???\n",
    "  "
   ]
  },
  {
   "cell_type": "code",
   "execution_count": 123,
   "metadata": {
    "scrolled": true
   },
   "outputs": [
    {
     "name": "stdout",
     "output_type": "stream",
     "text": [
      "5 4\n",
      "2\n",
      "[0, 2, 0]\n",
      "\n",
      "[0, 0, 1, 0]\n",
      "[4, 2, 0, 0]\n",
      "[1, 3, 0, 0]\n",
      "[0, 0, 2, 0]\n",
      "[0, 0, 0, 1]\n"
     ]
    }
   ],
   "source": [
    "''' 1회차 '''\n",
    "from collections import deque\n",
    "\n",
    "def bfs(init_y,init_x,graph,visit,n, m):\n",
    "    que = deque()\n",
    "    que.append((init_y,init_x))\n",
    "    visit[init_y][init_x] = True\n",
    "    \n",
    "    #    좌측 3개, 중앙 2개, 우측 3개\n",
    "    dy = [-1, 0, 1, -1, 1, -1, 0, 1]\n",
    "    dx = [-1, -1, -1, 0, 0, 1, 1, 1]\n",
    "    #dx = (-1, -1, -1, 0, 1, 1, 1, 0)\n",
    "    #dy = (-1, 0, 1, 1, 1, 0, -1, -1)\n",
    "    \n",
    "    while que:\n",
    "        y, x = que.popleft()\n",
    "        \n",
    "        for nextp in range(8):\n",
    "            ny = y + dy[nextp]\n",
    "            nx = x + dx[nextp]\n",
    "            #print(ny, nx)\n",
    "            #print(visit[ny][nx])\n",
    "            \n",
    "            # 방문하지 않고, 범위 안에 있는 위치만\n",
    "            if 0<= ny < n and 0 <= nx < m and visit[ny][nx] == False:\n",
    "                #print(y, x, \"-> go [\", ny, nx, \"]\", que)\n",
    "                \n",
    "                if graph[ny][nx] == 1:\n",
    "                    #print(\"y,x=\", y,x, \"+\",dy[nextp], dx[nextp], \"ny,nx=\",ny,nx)\n",
    "                    return graph[y][x]\n",
    "                \n",
    "                visit[ny][nx] = True\n",
    "                \n",
    "                graph[ny][nx] = graph[y][x] + 1\n",
    "                que.append((ny,nx))\n",
    "    return 0\n",
    "\n",
    "n, m = map(int,input().split())\n",
    "#graph = [list(map(int, input().split())) for _ in range(n)]\n",
    "graph = [[0, 0, 1, 0], [0, 0, 0, 0], [1, 0, 0, 0], [0, 0, 0, 0], [0, 0, 0, 1]]\n",
    "#graph = [[0, 0, 0, 1], [0, 1, 0, 0], [0, 0, 0, 0], [0, 0, 0, 1], [0, 0, 0, 0], [0, 1, 0, 0], [0, 0, 0, 1]]\n",
    "\n",
    "#visit = [[False]*m]*n5 \n",
    "visit = [[-1] * m for _ in range(n)]\n",
    "answer = []\n",
    "\n",
    "for y in range(n):\n",
    "    for x in range(m):\n",
    "        if graph[y][x] == 1:            \n",
    "            answer.append(bfs(y,x,graph,visit,n, m))\n",
    "            visit = [[False]*m]*n\n",
    "            \n",
    "print(max(answer))\n",
    "print(answer)\n",
    "print()\n",
    "for i in graph:\n",
    "    print(i)"
   ]
  },
  {
   "cell_type": "code",
   "execution_count": 65,
   "metadata": {},
   "outputs": [
    {
     "name": "stdout",
     "output_type": "stream",
     "text": [
      "[3, 2, 1, 2]\n",
      "[2, 2, 2, 2]\n",
      "[1, 3, 3, 3]\n",
      "[2, 3, 2, 3]\n",
      "[0, 3, 3, 1]\n"
     ]
    }
   ],
   "source": [
    "for i in graph:\n",
    "    print(i)"
   ]
  },
  {
   "cell_type": "markdown",
   "metadata": {},
   "source": [
    "* 토마토랑 같은거였다. 처음에 상어위치 다 큐에 넣어줘야함\n",
    "\n",
    "## 실패이유\n",
    "* 1. 첨에 생각한 접근방식은 맞았는데, 토마토임을 인지하지 못했고,\n",
    "* 2. graph로만 하지 말고 별도의 그래프 새로 만들어서 수행하는 방식 인지해야하고,\n",
    "* 3. max(answer, visit[ny][nx]) <--- 이거 자주 애용하자"
   ]
  },
  {
   "cell_type": "code",
   "execution_count": 133,
   "metadata": {
    "collapsed": true
   },
   "outputs": [
    {
     "name": "stdout",
     "output_type": "stream",
     "text": [
      "5 4\n",
      "0\n",
      "1\n",
      "1\n",
      "1\n",
      "1\n",
      "1\n",
      "1\n",
      "1\n",
      "1\n",
      "1\n",
      "1\n",
      "1\n",
      "1\n",
      "2\n",
      "2\n",
      "2\n",
      "2\n",
      "2\n"
     ]
    }
   ],
   "source": [
    "''' 답지 '''\n",
    "from collections import deque\n",
    "\n",
    "n, m = map(int,input().split())\n",
    "#graph = [list(map(int, input().split())) for _ in range(n)]\n",
    "graph = [[0, 0, 1, 0], [0, 0, 0, 0], [1, 0, 0, 0], [0, 0, 0, 0], [0, 0, 0, 1]]\n",
    "#graph = [[0, 0, 0, 1], [0, 1, 0, 0], [0, 0, 0, 0], [0, 0, 0, 1], [0, 0, 0, 0], [0, 1, 0, 0], [0, 0, 0, 1]]\n",
    "\n",
    "#visit = [[-1]*m]*n           #<---------------이러면 답이 틀림\n",
    "visit = [[-1] * m for _ in range(n)]    #<----이래야 맞음 Why????\n",
    "\n",
    "answer = 0\n",
    "que = deque()\n",
    "\n",
    "# (매우중요) 토마토와 똑같이!!! 시작점 다 넣어줌\n",
    "for y in range(n):\n",
    "    for x in range(m):\n",
    "        if graph[y][x] == 1:\n",
    "            visit[y][x] = 0\n",
    "            que.append((y,x))    # <-- 토마토처럼 해줘서 max(ans, visit)이 가능했던 것!\n",
    "\n",
    "#    좌측 3개, 중앙 2개, 우측 3개\n",
    "dy = [-1, 0, 1, -1, 1, -1, 0, 1]\n",
    "dx = [-1, -1, -1, 0, 0, 1, 1, 1]\n",
    "\n",
    "\n",
    "# (매우중요) graph를 안쓰고 별도의 visit 횟수 count\n",
    "while que:\n",
    "    y, x = que.popleft()\n",
    "\n",
    "    for nextp in range(8):\n",
    "        ny = y + dy[nextp]\n",
    "        nx = x + dx[nextp]\n",
    "        \n",
    "        # 한번도 방문하지 않고, 범위 안에 있는 위치만\n",
    "        if 0<= ny < n and 0 <= nx < m and visit[ny][nx] == -1:\n",
    "            visit[ny][nx] = visit[y][x] + 1\n",
    "            answer = max(answer, visit[ny][nx])   # (매우중요) 바로바로 비교\n",
    "            que.append((ny,nx))\n",
    "                \n",
    "print(answer)"
   ]
  },
  {
   "cell_type": "code",
   "execution_count": 132,
   "metadata": {},
   "outputs": [
    {
     "name": "stdout",
     "output_type": "stream",
     "text": [
      "[2, 1, 0, 1]\n",
      "[1, 1, 1, 1]\n",
      "[0, 1, 2, 2]\n",
      "[1, 1, 1, 1]\n",
      "[2, 2, 1, 0]\n"
     ]
    }
   ],
   "source": [
    "for i in visit:\n",
    "    print(i)"
   ]
  },
  {
   "cell_type": "code",
   "execution_count": 134,
   "metadata": {},
   "outputs": [
    {
     "name": "stdout",
     "output_type": "stream",
     "text": [
      "5 4\n",
      "0 0 1 0\n",
      "0 0 0 0\n",
      "1 0 0 0\n",
      "0 0 0 0\n",
      "0 0 0 1\n",
      "2\n"
     ]
    }
   ],
   "source": [
    "from collections import deque\n",
    "\n",
    "n, m = map(int, input().split())\n",
    "arr = []\n",
    "\n",
    "shark = deque()\n",
    "for i in range(n):\n",
    "    temp = list(map(int, input().split()))\n",
    "    for t in range(m):\n",
    "        if temp[t] == 1:\n",
    "            shark.append((i,t))\n",
    "    arr.append(temp)\n",
    "\n",
    "mx = [-1, -1, -1, 0, 1, 0, 1, 1]\n",
    "my = [-1, 0, 1, 1, 1, -1, 0, -1]\n",
    "\n",
    "\n",
    "def bfs():\n",
    "    while shark:\n",
    "        x, y = shark.popleft()\n",
    "        for k in range(8):\n",
    "            dx = x + mx[k]\n",
    "            dy = y + my[k]\n",
    "            if 0 <= dx < n and 0 <= dy < m:\n",
    "                if arr[dx][dy] == 0:\n",
    "                    shark.append((dx,dy))\n",
    "                    arr[dx][dy] = arr[x][y] + 1\n",
    "    return\n",
    "\n",
    "\n",
    "bfs()\n",
    "safe_dist = 0\n",
    "for i in range(n):\n",
    "    for j in range(m):\n",
    "        safe_dist = max(safe_dist, arr[i][j])\n",
    "\n",
    "print(safe_dist - 1)"
   ]
  },
  {
   "cell_type": "code",
   "execution_count": 137,
   "metadata": {},
   "outputs": [
    {
     "name": "stdout",
     "output_type": "stream",
     "text": [
      "[3, 2, 1, 2]\n",
      "[2, 2, 2, 2]\n",
      "[1, 2, 3, 3]\n",
      "[2, 2, 2, 2]\n",
      "[3, 3, 2, 1]\n"
     ]
    }
   ],
   "source": [
    "for i in arr:\n",
    "    print(i)"
   ]
  },
  {
   "cell_type": "code",
   "execution_count": null,
   "metadata": {},
   "outputs": [],
   "source": []
  },
  {
   "cell_type": "code",
   "execution_count": null,
   "metadata": {},
   "outputs": [],
   "source": []
  }
 ],
 "metadata": {
  "kernelspec": {
   "display_name": "Python 3",
   "language": "python",
   "name": "python3"
  },
  "language_info": {
   "codemirror_mode": {
    "name": "ipython",
    "version": 3
   },
   "file_extension": ".py",
   "mimetype": "text/x-python",
   "name": "python",
   "nbconvert_exporter": "python",
   "pygments_lexer": "ipython3",
   "version": "3.8.5"
  }
 },
 "nbformat": 4,
 "nbformat_minor": 4
}
