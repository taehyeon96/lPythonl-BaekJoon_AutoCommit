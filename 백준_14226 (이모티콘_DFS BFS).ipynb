{
 "cells": [
  {
   "cell_type": "code",
   "execution_count": null,
   "metadata": {},
   "outputs": [],
   "source": []
  },
  {
   "cell_type": "markdown",
   "metadata": {},
   "source": [
    "## 메모한 것\n",
    "\n",
    "* 영선->효빈 스마일 이모티콘 S개\n",
    "\n",
    "* 3가지 연산\n",
    "    - 화면 모든 내역 => 클립보드 \n",
    "        - \"기존 클립보드 내역 덮어쓰기\"\n",
    "        - \"일부만 복사 x\"\n",
    "    - 클립보드 모든 내역 => 화면 \n",
    "        - 이때 \"클립보드 내역 없으면 불가\"\n",
    "        - \"클립보드에 있던 개수를 화면에 출력\"\n",
    "    - 화면 이모티콘 중 1개 삭제\n",
    "    \n",
    "* 이미 화면에 1개 존재\n",
    "* 모든연산 1초\n",
    "\n",
    "* 클립보드 이모티콘 부분적으로 삭제 불가\n",
    "\n",
    "* 출력할 것 : S개 이모티콘 만드는데 걸리는 **최소시간 => 이런게 BFS구나**"
   ]
  },
  {
   "cell_type": "markdown",
   "metadata": {},
   "source": [
    "BFS인건 알겠는데, 어떻게 접근해야 하는가\n",
    "https://yunaaaas.tistory.com/83\n",
    "\n",
    "s랑 c는 이렇게 하란 말이엇다\n",
    "https://jshong1125.tistory.com/26"
   ]
  },
  {
   "cell_type": "code",
   "execution_count": null,
   "metadata": {},
   "outputs": [],
   "source": []
  },
  {
   "cell_type": "code",
   "execution_count": null,
   "metadata": {},
   "outputs": [],
   "source": []
  },
  {
   "cell_type": "code",
   "execution_count": null,
   "metadata": {},
   "outputs": [],
   "source": []
  },
  {
   "cell_type": "code",
   "execution_count": null,
   "metadata": {},
   "outputs": [],
   "source": []
  }
 ],
 "metadata": {
  "kernelspec": {
   "display_name": "Python 3",
   "language": "python",
   "name": "python3"
  },
  "language_info": {
   "codemirror_mode": {
    "name": "ipython",
    "version": 3
   },
   "file_extension": ".py",
   "mimetype": "text/x-python",
   "name": "python",
   "nbconvert_exporter": "python",
   "pygments_lexer": "ipython3",
   "version": "3.8.5"
  }
 },
 "nbformat": 4,
 "nbformat_minor": 4
}
