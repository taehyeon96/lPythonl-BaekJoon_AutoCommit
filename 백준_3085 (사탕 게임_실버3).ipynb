{
 "cells": [
  {
   "cell_type": "markdown",
   "metadata": {},
   "source": [
    "# 메모\n",
    "\n",
    "* 사탕을 먹는 경우는 행 또는 열만 가능인듯 (ㄴ 이나 ㄹ 이런느낌 x)\n",
    "\n",
    "* 스왑이야 쉬움\n",
    "    - a, b = b, a\n",
    "    \n",
    "* 문제는 어케하냐인데\n",
    "    - 일단 나이트 게임처럼 dy dx 만들긴 하겠는데\n",
    "        - 스왑할 때의 dy dx는 나이트처럼\n",
    "        - dfs()안에서의 dy dx는 한 방향으로만\n",
    "\n",
    "* 이건가?\n",
    "    - 풀서치 하면서 [ny, nx]가 [y,x]랑 다르면 swap\n",
    "    - 스왑이 일어난 경우 스왑이 일어난 두 좌표에서만 start위치로 dfs() 해서 각 max 결과물 append\n",
    "    - max(결과물)\n",
    "    \n",
    "* 아니면 max(a, b)를 활용하는 문제일수도 있음\n",
    "\n",
    "일단 해보자"
   ]
  },
  {
   "cell_type": "code",
   "execution_count": 5,
   "metadata": {},
   "outputs": [
    {
     "name": "stdout",
     "output_type": "stream",
     "text": [
      "3\n",
      "3\n",
      "2\n",
      "2\n"
     ]
    }
   ],
   "source": [
    "\n",
    "def dfs(y, x, visit, m, n,max_num):\n",
    "    visit[y][x] = 1                     # DFS니까 다시는 올 수 없게 체크\n",
    "    #     상 하 좌 우 \n",
    "    dy = [-1, 1, 0, 0]\n",
    "    dx = [0, 0, -1, 1]\n",
    "    \n",
    "    for i in range(4):\n",
    "        ny = y + dy[i]\n",
    "        nx = x + dx[i]\n",
    "        if ny < 0 or m <= ny or nx < 0 or n <= nx:\n",
    "            continue\n",
    "       \n",
    "        if visit[ny][nx] == 0:\n",
    "            max_num += 1\n",
    "            dfs(ny, nx, visit, m, n,max_num)\n",
    "    print(max_num)        \n",
    "    return max_num\n",
    "\n",
    "#n = int(input())\n",
    "#graph = [list(input()) for _ in range(n)]\n",
    "graph = [['C', 'C', 'P'], ['C', 'C', 'P'], ['P', 'P', 'C']]\n",
    "#graph = [['P', 'P', 'P', 'P'], ['C', 'Y', 'Z', 'Y'], ['C', 'C', 'P', 'Y'], ['P', 'P', 'C', 'C']]\n",
    "\n",
    "n = 3\n",
    "\n",
    "visit = [[0]*3]*3\n",
    "max_num = 1\n",
    "\n",
    "# 스왑 안한 상태에서 max인 값을 일단 저장해둬야함\n",
    "for y in range(n):\n",
    "    for x in range(n):\n",
    "        if visit[y][x] == 0:\n",
    "            max_num = max(dfs(y, x, visit, n, n,max_num), max_num)\n",
    "            \n",
    "print(max_num)"
   ]
  },
  {
   "cell_type": "code",
   "execution_count": 6,
   "metadata": {},
   "outputs": [
    {
     "data": {
      "text/plain": [
       "[[0, 0, 0], [0, 0, 0], [0, 0, 0]]"
      ]
     },
     "execution_count": 6,
     "metadata": {},
     "output_type": "execute_result"
    }
   ],
   "source": [
    "\n",
    "visit"
   ]
  },
  {
   "cell_type": "code",
   "execution_count": null,
   "metadata": {},
   "outputs": [],
   "source": []
  },
  {
   "cell_type": "markdown",
   "metadata": {},
   "source": [
    "# 아이디어\n",
    "\n",
    "* A함수 - 먼저 아무것도 하지 않은 상태에서 max값을 지정해줘야함\n",
    "    - 행/열 직선으로만 max를 지정하니까\n",
    "    - 브루트포스로 시작점 잡고 한칸씩 이동하면서\n",
    "    - 행 행 행 먼저 서치하고\n",
    "    - 열 열 열 서치\n",
    "    - 같은 문자면 += 1\n",
    "    - 다른 문자면 max( 기존max_num, new_max_num )를 활용하자\n",
    "    \n",
    "* 프루트포스로 한칸씩 이동하며 y, x != ny, nx일 경우에만 swap 수행\n",
    "    - swap발생 시 A함수 똑같이 호출해서 수행\n",
    "        - 끝나면 다시 원래대로 돌리기 위한 swap\n",
    "\n",
    "# 시간복잡도\n",
    "* 몰라\n",
    "\n",
    "# 필요 변수\n",
    "\n",
    "* 문자열을 담은 graph\n",
    "* max_num -> max(a, b)활용해서 새롭게 업데이트"
   ]
  },
  {
   "cell_type": "code",
   "execution_count": null,
   "metadata": {},
   "outputs": [],
   "source": []
  },
  {
   "cell_type": "code",
   "execution_count": 47,
   "metadata": {},
   "outputs": [
    {
     "name": "stdout",
     "output_type": "stream",
     "text": [
      "3\n",
      "CCP\n",
      "CCP\n",
      "PPC\n",
      "3\n"
     ]
    }
   ],
   "source": [
    "def row_check(n, graph, visit, max_num):\n",
    "    # y++하며 가로 최대값 체크\n",
    "    for y in range(n):\n",
    "        for x in range(1, n):\n",
    "            # 같으면\n",
    "            if graph[y][x-1] == graph[y][x]:\n",
    "                visit[y][x] = visit[y][x-1] + 1\n",
    "                max_num = max(visit[y][x], max_num)\n",
    "            else:\n",
    "                visit[y][x] = 1\n",
    "    return max_num\n",
    "\n",
    "def column_check(n, graph, visit, max_num):\n",
    "    # x++하며 세로 최대값 체크\n",
    "    for x in range(n):\n",
    "        for y in range(1, n):\n",
    "            # 같으면\n",
    "            if graph[y-1][x] == graph[y][x]:\n",
    "                visit[y][x] = visit[y-1][x] + 1\n",
    "                max_num = max(visit[y][x], max_num)\n",
    "            else:\n",
    "                visit[y][x] = 1\n",
    "    return max_num\n",
    "        \n",
    "n = int(input())\n",
    "graph = [list(input()) for _ in range(n)]\n",
    "max_num = 0           \n",
    "\n",
    "# 스왑 한번 할 때마다 위 함수 매번 수행하면 될듯\n",
    "for y in range(n):\n",
    "    for x in range(1, n):\n",
    "        # 다르면\n",
    "        if graph[y][x-1] != graph[y][x]:\n",
    "            graph[y][x-1], graph[y][x] = graph[y][x], graph[y][x-1]\n",
    "            \n",
    "            visit = [[0]*n for _ in range(n)]    # (주의) 이렇게 만들어줘야함\n",
    "            for i in range(n):    visit[i][0] = 1\n",
    "            max_num = row_check(n, graph, visit, max_num)\n",
    "            \n",
    "            visit = [[0]*n for _ in range(n)]    # (주의) 이렇게 만들어줘야함\n",
    "            visit[0] = [1]*n\n",
    "            max_num = column_check(n, graph, visit, max_num)\n",
    "            \n",
    "            graph[y][x-1], graph[y][x] = graph[y][x], graph[y][x-1]\n",
    "\n",
    "for x in range(n):\n",
    "    for y in range(1, n):\n",
    "        # 다르면\n",
    "        if graph[y-1][x] != graph[y][x]:  \n",
    "            graph[y-1][x], graph[y][x] = graph[y][x], graph[y-1][x]\n",
    "            \n",
    "            visit = [[0]*n for _ in range(n)]    # (주의) 이렇게 만들어줘야함\n",
    "            for i in range(n):    visit[i][0] = 1\n",
    "            max_num = row_check(n, graph, visit, max_num)\n",
    "            \n",
    "            visit = [[0]*n for _ in range(n)]    # (주의) 이렇게 만들어줘야함\n",
    "            visit[0] = [1]*n\n",
    "            max_num = column_check(n, graph, visit, max_num)\n",
    "            \n",
    "            graph[y-1][x], graph[y][x] = graph[y][x], graph[y-1][x]\n",
    "        \n",
    "print(max_num)    "
   ]
  },
  {
   "cell_type": "code",
   "execution_count": 27,
   "metadata": {},
   "outputs": [
    {
     "data": {
      "text/plain": [
       "[[1, 1, 1], [0, 0, 0], [0, 0, 0]]"
      ]
     },
     "execution_count": 27,
     "metadata": {},
     "output_type": "execute_result"
    }
   ],
   "source": [
    "#n = 3\n",
    "#graph = [['C', 'C', 'P'], ['C', 'C', 'P'], ['P', 'P', 'C']]\n",
    "#n = 4\n",
    "#graph = [['P', 'P', 'P', 'P'], ['C', 'Y', 'Z', 'Y'], ['C', 'C', 'P', 'Y'], ['P', 'P', 'C', 'C']]\n",
    "#n=5\n",
    "#graph = [['Y', 'C', 'P', 'Z', 'Y'], ['C', 'Y', 'Z', 'Z', 'P'], ['C', 'C', 'P', 'P', 'P'], ['Y', 'C', 'Y', 'Z', 'C'], ['C', 'P', 'P', 'Z', 'Z']]"
   ]
  },
  {
   "cell_type": "code",
   "execution_count": null,
   "metadata": {},
   "outputs": [],
   "source": []
  },
  {
   "cell_type": "code",
   "execution_count": null,
   "metadata": {},
   "outputs": [],
   "source": [
    "\n",
    "for y in range(n):\n",
    "    for x in range(1, n):\n",
    "        # 같으면\n",
    "        if graph[y][x-1] == graph[y][x]:\n",
    "            visit[y][x] = visit[y][x-1] + 1\n",
    "            max_num = max(visit[y][x], max_num)\n",
    "        else:\n",
    "            visit[y][x] = 1\n",
    "            \n",
    "            "
   ]
  }
 ],
 "metadata": {
  "kernelspec": {
   "display_name": "Python 3",
   "language": "python",
   "name": "python3"
  },
  "language_info": {
   "codemirror_mode": {
    "name": "ipython",
    "version": 3
   },
   "file_extension": ".py",
   "mimetype": "text/x-python",
   "name": "python",
   "nbconvert_exporter": "python",
   "pygments_lexer": "ipython3",
   "version": "3.8.5"
  }
 },
 "nbformat": 4,
 "nbformat_minor": 4
}
