{
 "cells": [
  {
   "cell_type": "markdown",
   "metadata": {},
   "source": [
    "## 메모\n",
    "### 메모한것\n",
    "\n",
    "폴리오미노 모양은 두가지임 ( AAAA와 BB ) => 4개짜리, 2개짜리\n",
    "    - 중간에 홀수만큼의 xxx가 하나라도 있으면 불가함\n",
    "    - 제일 마지막에 if 'X' in arr: print(-1) 하면 되겟네 (하나라도 남아있음 안되니까)\n",
    "    \n",
    "' X '만 덮는다\n",
    "' . '은 덮으면 안된다\n",
    "\n",
    "덮을 수 없으면 -1\n",
    "\n",
    "사전순으로 가장 앞서는 답을 출력?????\n",
    "\n",
    "### 알고리즘\n",
    "\n",
    "```\n",
    "\n",
    "1. 왼쪽부터 X인 경우 cnt += 1 하면서 숫자를 센다\n",
    "    - cnt == 2인 경우 BB로 대체\n",
    "    - cnt == 4인 경우 AAAA로 대체하고 cnt = 0\n",
    "\n",
    "2. '.'인 경우 cnt = 0\n",
    "\n",
    "```\n",
    "\n",
    "### 시복\n",
    "\n",
    "\n",
    "\n",
    "### 변수\n",
    "\n"
   ]
  },
  {
   "cell_type": "code",
   "execution_count": 25,
   "metadata": {},
   "outputs": [
    {
     "name": "stdout",
     "output_type": "stream",
     "text": [
      "XXXX....XXX.....XX\n",
      "AAAA....BBX.....BB\n",
      "-1\n"
     ]
    }
   ],
   "source": [
    "arr = list(input())\n",
    "length = len(arr)\n",
    "cnt = 0\n",
    "\n",
    "for i in range(length):\n",
    "    if arr[i] == 'X':\n",
    "        cnt += 1\n",
    "        if cnt == 2:\n",
    "            arr[i-1] = arr[i] = 'B'\n",
    "        if cnt == 4:\n",
    "            arr[i-3] = arr[i-2] = arr[i-1] = arr[i] = 'A'\n",
    "            cnt = 0\n",
    "            \n",
    "    elif arr[i] == '.':\n",
    "        cnt = 0  \n",
    "\n",
    "print(\"\".join(map(str,arr)))\n",
    "print(-1) if 'X' in arr else print(\"\".join(map(str,arr)))"
   ]
  },
  {
   "cell_type": "code",
   "execution_count": 30,
   "metadata": {},
   "outputs": [
    {
     "name": "stdout",
     "output_type": "stream",
     "text": [
      "XX.XXXXXXXXXX..XXXXXXXX...XXXXXX\n",
      "BB.AAAAAAAABB..AAAAAAAA...AAAABB\n"
     ]
    }
   ],
   "source": [
    "board = input()\n",
    "\n",
    "board = board.replace(\"XXXX\", \"AAAA\")\n",
    "board = board.replace(\"XX\", \"BB\")\n",
    "\n",
    "print(-1) if 'X' in board else print(board)"
   ]
  }
 ],
 "metadata": {
  "kernelspec": {
   "display_name": "Python 3",
   "language": "python",
   "name": "python3"
  },
  "language_info": {
   "codemirror_mode": {
    "name": "ipython",
    "version": 3
   },
   "file_extension": ".py",
   "mimetype": "text/x-python",
   "name": "python",
   "nbconvert_exporter": "python",
   "pygments_lexer": "ipython3",
   "version": "3.8.5"
  }
 },
 "nbformat": 4,
 "nbformat_minor": 4
}
