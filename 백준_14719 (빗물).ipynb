{
 "cells": [
  {
   "cell_type": "code",
   "execution_count": null,
   "metadata": {},
   "outputs": [],
   "source": []
  },
  {
   "cell_type": "markdown",
   "metadata": {},
   "source": [
    "## 문제 접근하면서 생각한 것 메모\n",
    "\n",
    "* 일단 창고다각형(백준 2304)랑 같은 문제다\n",
    "* 반반 브루트폴스인건 똑같을 듯\n",
    "* U나 UU 인 경우까지 테스트케이스로 나왔는데, UUU ~ UUUUUU 이런 경우는 없겠지..?\n",
    "\n",
    "* 1 이상일 경우에만 물을 채우자(?)\n",
    "\n",
    "처음에 생각했던 수도코드 (걍 메모용임 정답이랑 좀 다르다)\n",
    "* answer = 0\n",
    "\n",
    "한쪽만 봤을 때\n",
    "* while(끝 idx까지 이동):\n",
    "  - water = 0      ~> 여기서 초기화\n",
    "  - while():        ~> 1회 진행 ~> 이러면 uuuuuu이런 경우도 가능!\n",
    "  - 이때 물을 채우는 양은\n",
    "  - 일단 plus = 현재 높이 저장해두고\n",
    "  - if h > nh :\n",
    "  -     water += (plus - 다음) = (h - nh) ~> 이때 다음(nh)는 계속 다음 idx꺼로 바뀌어감\n",
    "  - elif h <= nh:\n",
    "  -      answer += water\n",
    "  -      break\n"
   ]
  },
  {
   "cell_type": "code",
   "execution_count": 21,
   "metadata": {},
   "outputs": [
    {
     "name": "stdout",
     "output_type": "stream",
     "text": [
      "4 8\n",
      "3 1 2 3 4 1 1 2\n",
      "5\n"
     ]
    }
   ],
   "source": [
    "''' 내가 짠 - only 내힘 '''\n",
    "answer = 0\n",
    "\n",
    "h, w = map(int, input().split())\n",
    "graph = list(map(int, input().split()))\n",
    "\n",
    "max_t_idx = graph.index(max(graph))\n",
    "\n",
    "# 왼쪽부터 max높이까지\n",
    "prev = graph[0]\n",
    "for i in range(1, max_t_idx):\n",
    "    if prev <= graph[i]:              # 테케 3번도 이래서 ㅇㅋ임(물 안넣음)\n",
    "        prev = graph[i]               # prev 변경 후 그간 쌓은 물 추가해준다\n",
    "    elif prev > graph[i]:\n",
    "        answer += prev - graph[i]     # prev 높이 유지\n",
    "    \n",
    "# 오른쪽부터 max높이까지\n",
    "prev = graph[-1]\n",
    "for i in range(w-2, max_t_idx, -1):\n",
    "    if prev <= graph[i]:\n",
    "        prev = graph[i]               # prev 변경 후 그간 쌓은 물 추가해준다\n",
    "    elif prev > graph[i]:\n",
    "        answer += prev - graph[i]     # prev 높이 유지\n",
    "\n",
    "print(answer)"
   ]
  },
  {
   "attachments": {
    "image.png": {
     "image/png": "[encoded data removed]"
    }
   },
   "cell_type": "markdown",
   "metadata": {},
   "source": [
    "![image.png](attachment:image.png)\n"
   ]
  },
  {
   "cell_type": "code",
   "execution_count": 9,
   "metadata": {},
   "outputs": [
    {
     "data": {
      "text/plain": [
       "3"
      ]
     },
     "execution_count": 9,
     "metadata": {},
     "output_type": "execute_result"
    }
   ],
   "source": [
    "max_t_idx"
   ]
  },
  {
   "cell_type": "code",
   "execution_count": null,
   "metadata": {},
   "outputs": [],
   "source": []
  },
  {
   "cell_type": "code",
   "execution_count": null,
   "metadata": {},
   "outputs": [],
   "source": []
  }
 ],
 "metadata": {
  "kernelspec": {
   "display_name": "Python 3",
   "language": "python",
   "name": "python3"
  },
  "language_info": {
   "codemirror_mode": {
    "name": "ipython",
    "version": 3
   },
   "file_extension": ".py",
   "mimetype": "text/x-python",
   "name": "python",
   "nbconvert_exporter": "python",
   "pygments_lexer": "ipython3",
   "version": "3.8.5"
  }
 },
 "nbformat": 4,
 "nbformat_minor": 4
}
